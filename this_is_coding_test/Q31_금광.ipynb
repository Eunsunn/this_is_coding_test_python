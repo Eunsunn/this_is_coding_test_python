{
 "cells": [
  {
   "cell_type": "markdown",
   "metadata": {},
   "source": [
    "# 금광\n",
    "\n",
    "n x m 크기의 금광이 있다. 금광은 1 x 1 크기의 칸으로 나누어져 있으며, 각 칸은 특정한 크기의 금이 들어있다. 채굴자는 첫번째 열부터 출발하여 금을 캐기 시작한다. 맨 처음에는 첫번째 열의 어느 행에서든 출발할 수 있다. 이후에 m번에 걸쳐서 매번 오른쪽 위, 오른쪽, 오른쪽 아래 3가지 중 하나의 위치로 이동해야 한다. 결과적으로 채굴자가 얻을 수 있는 금의 최대 크기를 출력하는 프로그램을 작성하시오.\n",
    "\n",
    "<h6>입력조건</h6>\n",
    "첫째줄에 테스트 케이스 T가 입력된다. (1<=T<=1000)\n",
    "매 테스트 케이스 첫째줄에 n과 m이 공백으로 구분되어 입력된다. (1<=n,m<=20) 둘째 줄에 n x m 개의 위치에 매장된 금의 개수가 공백으로 구분되어 입력된다. (1<=각 위치에 매장된 금의 개수<=100)\n",
    "<h6>출력조건</h6>\n",
    "테스트 케이스마다 채굴자가 얻을 수 있는 금의 최대 크기를 출력한다. 각 테스트 케이스는 줄바꿈을 이용해 구분한다."
   ]
  },
  {
   "cell_type": "markdown",
   "metadata": {},
   "source": [
    "# 은선"
   ]
  },
  {
   "cell_type": "code",
   "execution_count": null,
   "metadata": {},
   "outputs": [],
   "source": [
    "# 이코테 Q31\n",
    "# n x m 크기의 행렬의 가장 왼쪽에서 시작해서 m번 이동할 때,\n",
    "# 얻을 수 있는 수의 최대값\n",
    "# (단, 이동경로는 오른쪽 위, 오른쪽, 오른쪽 아래 3가지 중 하나이다.)\n",
    "\n",
    "def solution():\n",
    "    cases, n, m = None, None, None\n",
    "    x_dir = [-1, -1, -1] # 왼쪽 위, 왼쪽, 왼쪽 아래\n",
    "    y_dir = [-1, 0, 1]\n",
    "\n",
    "    def find_max_gold(c, mine):\n",
    "        # m번 이동하면 가장 오른쪽 열에서 답을 찾는다\n",
    "        if c == m:\n",
    "            return max([row[m-1] for row in mine])\n",
    "        \n",
    "        for i in range(n):\n",
    "            prev_max = 0\n",
    "            for d in range(len(x_dir)):\n",
    "                tmp_r, tmp_c = i + y_dir[d], c + x_dir[d]\n",
    "                if 0 <= tmp_r < n and 0 <= tmp_c < m:\n",
    "                    prev_max = max(prev_max, mine[tmp_r][tmp_c])\n",
    "            mine[i][c] += prev_max\n",
    "        return find_max_gold(c+1, mine)\n",
    "\n",
    "\n",
    "    cases = int(input())\n",
    "    for _ in range(cases):\n",
    "        n, m = list(map(int, input().split()))\n",
    "        tmp = list(map(int, input().split()))\n",
    "        mine = []\n",
    "        for i in range(n):\n",
    "            mine.append(tmp[i*m : (i+1)*m])\n",
    "        print(find_max_gold(1, mine))\n",
    "\n",
    "\n",
    "if __name__ == \"__main__\":\n",
    "    solution()"
   ]
  }
 ],
 "metadata": {
  "kernelspec": {
   "display_name": "Python 3",
   "language": "python",
   "name": "python3"
  },
  "language_info": {
   "codemirror_mode": {
    "name": "ipython",
    "version": 3
   },
   "file_extension": ".py",
   "mimetype": "text/x-python",
   "name": "python",
   "nbconvert_exporter": "python",
   "pygments_lexer": "ipython3",
   "version": "3.7.4"
  },
  "varInspector": {
   "cols": {
    "lenName": 16,
    "lenType": 16,
    "lenVar": 40
   },
   "kernels_config": {
    "python": {
     "delete_cmd_postfix": "",
     "delete_cmd_prefix": "del ",
     "library": "var_list.py",
     "varRefreshCmd": "print(var_dic_list())"
    },
    "r": {
     "delete_cmd_postfix": ") ",
     "delete_cmd_prefix": "rm(",
     "library": "var_list.r",
     "varRefreshCmd": "cat(var_dic_list()) "
    }
   },
   "types_to_exclude": [
    "module",
    "function",
    "builtin_function_or_method",
    "instance",
    "_Feature"
   ],
   "window_display": false
  }
 },
 "nbformat": 4,
 "nbformat_minor": 4
}

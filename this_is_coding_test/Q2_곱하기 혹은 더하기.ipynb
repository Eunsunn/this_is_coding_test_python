{
 "cells": [
  {
   "cell_type": "markdown",
   "metadata": {},
   "source": [
    "# 곱하기 혹은 더하기\n",
    "<p> \n",
    "    각 자리 숫자(0부터 9)로만 이루어진 문자열 S가 주어졌을 때, 왼쪽부터 오른쪽으로 하나씩 모든 숫자를 확인하며 숫자 사이에 곱하기 혹은 더하기 연산자를 넣어 결과적으로 만들 수 있는 수 중 가장 큰 수를 구하는 프로그램을 작성하세요. 단, 더하기보다 곱하기를 먼저 계산하는 일반적인 방식과는 달리, 모든 연산은 왼쪽에서부터 순서대로 이루어진다고 가정한다.\n",
    "    예를들어 02984라는 문자열이 주어지면, 만들 수 있는 가장 큰 수는 ((((0 + 2) * 9) * 8) * 4) = 576이다. 또한 만들 수 있는 가장 큰 수는 항상 20억 이하의 정수가 되도록 입력이 주어진다.\n",
    "    입력조건: 첫째 줄에 여러개의 숫자로 구성된 하나의 문자열 S가 주어집니다. (1 <= S의 길이 <=20)\n",
    "    출력조건: 첫째 줄에 만들어질 수 있는 가장 큰 수를 출력합니다.\n",
    "        \n",
    "    입력예시1: 02984\n",
    "    출력예시1: 576\n",
    "    \n",
    "    입력예시2: 567\n",
    "    출력예시: 210\n",
    "</p>"
   ]
  },
  {
   "cell_type": "markdown",
   "metadata": {},
   "source": [
    "# 은선"
   ]
  },
  {
   "cell_type": "code",
   "execution_count": null,
   "metadata": {},
   "outputs": [],
   "source": [
    "def solution(S: str):\n",
    "    if len(S) == 1:\n",
    "        return int(S)\n",
    "\n",
    "    ret = int(S[0])\n",
    "    for i in range(1, len(S)):\n",
    "        s = int(S[i])\n",
    "        if ret == 0 or s == 0:\n",
    "            ret += s\n",
    "        else:\n",
    "            ret *= s\n",
    "    return ret\n",
    "\n",
    "if __name__ == \"__main__\":\n",
    "    # S = \"02984\"\n",
    "    S = \"567\"\n",
    "    print(solution(S))"
   ]
  }
 ],
 "metadata": {
  "kernelspec": {
   "display_name": "Python 3",
   "language": "python",
   "name": "python3"
  },
  "language_info": {
   "codemirror_mode": {
    "name": "ipython",
    "version": 3
   },
   "file_extension": ".py",
   "mimetype": "text/x-python",
   "name": "python",
   "nbconvert_exporter": "python",
   "pygments_lexer": "ipython3",
   "version": "3.7.4"
  },
  "varInspector": {
   "cols": {
    "lenName": 16,
    "lenType": 16,
    "lenVar": 40
   },
   "kernels_config": {
    "python": {
     "delete_cmd_postfix": "",
     "delete_cmd_prefix": "del ",
     "library": "var_list.py",
     "varRefreshCmd": "print(var_dic_list())"
    },
    "r": {
     "delete_cmd_postfix": ") ",
     "delete_cmd_prefix": "rm(",
     "library": "var_list.r",
     "varRefreshCmd": "cat(var_dic_list()) "
    }
   },
   "types_to_exclude": [
    "module",
    "function",
    "builtin_function_or_method",
    "instance",
    "_Feature"
   ],
   "window_display": false
  }
 },
 "nbformat": 4,
 "nbformat_minor": 4
}

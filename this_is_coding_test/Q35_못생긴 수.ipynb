{
 "cells": [
  {
   "cell_type": "markdown",
   "metadata": {},
   "source": [
    "# 못생긴 수\n",
    "\n",
    "못생긴 수란 오직 2, 3, 5만을 소인수로 가지는 수를 의미합니다. 다시말해 오직 2, 3, 5를 약수로 가지는 합성수를 의미합니다. 1은 못생긴 수라고 가정합니다.\n",
    "이때 n번째 못생긴 수를 찾는 프로그램을 작성하시오.\n",
    "예를 들어 11번째 못생긴 수는 15입니다.\n",
    "\n",
    "<h6>입력조건</h6>\n",
    "첫째줄에 n이 입력됩니다. (1<=n<=1000)\n",
    "<h6>출력조건</h6>\n",
    "n번째 못생긴 수를 출력합니다."
   ]
  },
  {
   "cell_type": "markdown",
   "metadata": {},
   "source": [
    "# 은선"
   ]
  },
  {
   "cell_type": "code",
   "execution_count": null,
   "metadata": {},
   "outputs": [],
   "source": [
    "# 못생긴 수 찾기\n",
    "# 2, 3, 5로만 구성된 수 -> 2, 3, 5의 지수로 표현\n",
    "# 작은 수부터 계속 2, 3, 5를 곱해 못생긴 수를 만든다\n",
    "\n",
    "\"\"\"\n",
    "[n=1] value=1, 인덱스=(0,0,0), next=(2,3,5)\n",
    "[n=2] value=min(2,3,5)=2, 인덱스=(1,0,0), next=(2*2,3,5)=(4,3,5)\n",
    "[n=3] value=min(4,3,5)=3, 인덱스=(1,1,0), next=(4,2*3,5)=(4,6,5)\n",
    "[n=4] value=min(4,6,5)=4, 인덱스=(2,1,0), next=(3*2,6,5)=(6,6,5)\n",
    "[n=5] value=min(6,6,5)=5, 인덱스=(2,1,1), next=(6,6,2*5)=(6,6,10)\n",
    "** 다중 if문으로 중복값 처리 -> 모든 값이 증가함**\n",
    "[n=6] value=min(6,6,10)=6, 인덱스=(3,2,1), next=(4*2,3*3,10)=(8,9,10)\n",
    "\"\"\"\n",
    "\n",
    "def solution(n):\n",
    "    min_idx = [0] * 3 # 2, 3, 5에 곱할 못생긴 수 인덱스\n",
    "    ugly = [0] * n # 못생긴 수\n",
    "    ugly[0] = 1\n",
    "\n",
    "    # 다음 2, 3, 5 배수 값\n",
    "    next2, next3, next5 = 2, 3, 5\n",
    "\n",
    "    # n개의 못생긴 수를 만든다\n",
    "    # 각 지수를 늘릴 때, 곱하지 않은 못생긴 수 중 가장 작은 수와 곱하면서 확인\n",
    "    for l in range(1, n):\n",
    "        ugly[l] = min(next2, next3, next5)\n",
    "        if ugly[l] == next2:\n",
    "            min_idx[0] += 1\n",
    "            # 2와 곱하지 않은 것 중 가장 작은 것과 곱하기\n",
    "            next2 = ugly[min_idx[0]] * 2\n",
    "        if ugly[l] == next3:\n",
    "            min_idx[1] += 1\n",
    "            next3 = ugly[min_idx[1]] * 3\n",
    "        if ugly[l] == next5:\n",
    "            min_idx[2] += 1\n",
    "            next5 = ugly[min_idx[2]] * 5\n",
    "\n",
    "    return ugly[-1]\n",
    "\n",
    "if __name__ == \"__main__\":\n",
    "    n = int(input())\n",
    "    print(solution(n))"
   ]
  }
 ],
 "metadata": {
  "kernelspec": {
   "display_name": "Python 3",
   "language": "python",
   "name": "python3"
  },
  "language_info": {
   "codemirror_mode": {
    "name": "ipython",
    "version": 3
   },
   "file_extension": ".py",
   "mimetype": "text/x-python",
   "name": "python",
   "nbconvert_exporter": "python",
   "pygments_lexer": "ipython3",
   "version": "3.7.4"
  },
  "varInspector": {
   "cols": {
    "lenName": 16,
    "lenType": 16,
    "lenVar": 40
   },
   "kernels_config": {
    "python": {
     "delete_cmd_postfix": "",
     "delete_cmd_prefix": "del ",
     "library": "var_list.py",
     "varRefreshCmd": "print(var_dic_list())"
    },
    "r": {
     "delete_cmd_postfix": ") ",
     "delete_cmd_prefix": "rm(",
     "library": "var_list.r",
     "varRefreshCmd": "cat(var_dic_list()) "
    }
   },
   "types_to_exclude": [
    "module",
    "function",
    "builtin_function_or_method",
    "instance",
    "_Feature"
   ],
   "window_display": false
  }
 },
 "nbformat": 4,
 "nbformat_minor": 4
}

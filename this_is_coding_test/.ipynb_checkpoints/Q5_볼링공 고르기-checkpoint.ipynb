{
 "cells": [
  {
   "cell_type": "markdown",
   "metadata": {},
   "source": [
    "<h1> 볼링공 고르기 </h1>\n",
    "\n",
    "A, B 두 사람이 볼링을 치고 있다. 두 사람은 서로 무게가 다른 볼링공을 고르려고 한다.\n",
    "볼링공은 총 N개가 있으며 각 볼링공마다 무게가 적혀 있고, 공의 번호는 1번부터 순서대로 부여된다.\n",
    "또한 같은 무게의 공이 여러 개 있을 수 있지만, 서로 다른 공으로 간주한다.\n",
    "볼링공의 무게는 1부터 M까지 자연수의 형태로 존재한다.\n",
    "\n",
    "예를 들어 N=5이고, M=3이며 각 무게가 차례대로 1, 3, 2, 3, 2일 때 각 공의 번호가 차례대로 1번부터 5번까지 부여된다.\n",
    "이때 두 사람이 고를 수 있는 볼링 공의 번호 조합을 구하면 다음과 같다.\n",
    "\n",
    "(1번, 2번), (1번, 3번), (1번, 4번), (1번, 5번), (2번, 3번), (2번, 5번), (3번, 4번), (4번, 5번)\n",
    "\n",
    "결과적으로 두 사람이 공을 고르는 경우의 수는 8가지다.\n",
    "N개의 공의 무게가 각각 주어질 때, 두 사람이 볼링공을 고리는 경우의 수를 구하는 프로그램을 작성하라.\n",
    "\n",
    "입력 조건\n",
    "    - 첫째 줄에 볼링 공의 개수 N, 공의 최대 무게 M이 공백으로 구분되어 각각 자연수의 형태로 주어집니다. (1<=N<=1000, 1<=M<=10)\n",
    "    - 둘째 줄에 각 볼링공의 무게 K가 공백으로 구분되어 순서대로 자연수의 형태로 주어집니다. (1 <= K <= M)\n",
    "출력 조건\n",
    "    - 첫째 줄에 두 살마이 볼링공을 고르는 경우의 수를 출력합니다."
   ]
  },
  {
   "cell_type": "markdown",
   "metadata": {
    "ExecuteTime": {
     "end_time": "2021-01-31T02:38:41.506738Z",
     "start_time": "2021-01-31T02:38:41.499550Z"
    }
   },
   "source": [
    "# 은선"
   ]
  },
  {
   "cell_type": "code",
   "execution_count": null,
   "metadata": {},
   "outputs": [],
   "source": [
    "from collections import Counter\n",
    "def solution(N, M, weights):\n",
    "    # Base case: N<=1, M<=1일때도 처리됨 (정답=0)\n",
    "    cnt = Counter(weights)\n",
    "    keys = list(cnt.keys())\n",
    "    ret = 0\n",
    "    # 1. unique하게 무게 두개를 선택하고\n",
    "    for i in range(len(keys)):\n",
    "        for j in range(i+1, len(keys)):\n",
    "            # 2. 무게마다 공 개수로 순열\n",
    "            w1, w2 = keys[i], keys[j]\n",
    "            ret += (cnt[w1] * cnt[w2])\n",
    "    \n",
    "    return ret\n",
    "\n",
    "\n",
    "if __name__ == \"__main__\":\n",
    "    # 직접 입력받을 경우\n",
    "    N, M = list(map(int, input().split())) # 언패킹\n",
    "    weights = list(map(int, input().split()))\n",
    "\n",
    "    # # test case 1\n",
    "    # N, M = 5, 3\n",
    "    # weights = [1, 3, 2, 3, 2]\n",
    "\n",
    "    # # test case 2\n",
    "    # N, M = 8, 5\n",
    "    # weights = [1, 5, 4, 3, 2, 4, 5, 2]\n",
    "    \n",
    "    # # test case 3: 공이 딱 하나 (N==1)\n",
    "    # N, M = 1, 3\n",
    "    # weights = [2]\n",
    "    \n",
    "    # # test case 4: 공 종류가 하나\n",
    "    # N, M = 8, 5\n",
    "    # weights = [5, 5, 5, 5, 5, 5, 5, 5]\n",
    "\n",
    "    # # test case 5: M==1\n",
    "    # N, M = 3, 1\n",
    "    # weights = [1, 1, 1]\n",
    "\n",
    "    print(solution(N, M, weights))"
   ]
  }
 ],
 "metadata": {
  "kernelspec": {
   "display_name": "Python 3",
   "language": "python",
   "name": "python3"
  },
  "language_info": {
   "codemirror_mode": {
    "name": "ipython",
    "version": 3
   },
   "file_extension": ".py",
   "mimetype": "text/x-python",
   "name": "python",
   "nbconvert_exporter": "python",
   "pygments_lexer": "ipython3",
   "version": "3.7.4"
  },
  "varInspector": {
   "cols": {
    "lenName": 16,
    "lenType": 16,
    "lenVar": 40
   },
   "kernels_config": {
    "python": {
     "delete_cmd_postfix": "",
     "delete_cmd_prefix": "del ",
     "library": "var_list.py",
     "varRefreshCmd": "print(var_dic_list())"
    },
    "r": {
     "delete_cmd_postfix": ") ",
     "delete_cmd_prefix": "rm(",
     "library": "var_list.r",
     "varRefreshCmd": "cat(var_dic_list()) "
    }
   },
   "types_to_exclude": [
    "module",
    "function",
    "builtin_function_or_method",
    "instance",
    "_Feature"
   ],
   "window_display": false
  }
 },
 "nbformat": 4,
 "nbformat_minor": 4
}

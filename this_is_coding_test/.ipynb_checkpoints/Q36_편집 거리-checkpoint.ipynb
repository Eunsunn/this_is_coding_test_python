{
 "cells": [
  {
   "cell_type": "markdown",
   "metadata": {},
   "source": [
    "# 편집 거리\n",
    "\n",
    "두 개의 문자열 A와 B가 주어졌을 때, 문자열 A를 편집하여 문자열 B로 만들고자 합니다. 문자열 A를 편집할 때는 다음의 세 연산 중에서 한 번에 하나씩 선택하여 이용할 수 있습니다.\n",
    ">1. 삽입: 특정한 위치에 하나의 문자를 삽입합니다.\n",
    ">2. 삭제: 특정한 위치에 있는 하나의 문자를 삭제합니다.\n",
    ">3. 교체: 특정한 위치에 있는 하나의 문자를 다른 문자로 교체합니다.\n",
    "\n",
    "이때 편집거리란 문자열 A를 편집하여 문자열 B로 만들기 위해 사용한 연산의 수를 의미합니다. 문자열 A를 문자열 B로 만드는 최소 편집 거리를 계산하는 프로그램을 작성하세요. 예를들어 \"sunday\"와 \"saturday\"의 최소 편집 거리는 3입니다.\n",
    "\n",
    "<h6>입력 조건</h6>\n",
    "두 문자열 A와 B가 한 줄에 하나씩 주어집니다.\n",
    "각 문자열은 영문 알파벳으로만 구성되어 있으며, 각 문자열의 길이는 1보다 크거나 같고 5000보다 작거나 같습니다.\n",
    "<h6>출력 조건</h6>\n",
    "최소 편집 거리를 출력합니다."
   ]
  },
  {
   "cell_type": "markdown",
   "metadata": {},
   "source": [
    "# 은선"
   ]
  },
  {
   "cell_type": "code",
   "execution_count": null,
   "metadata": {},
   "outputs": [],
   "source": [
    "# 편집 거리\n",
    "# 문자열 A -> B로 만들때 최소 연산의 수\n",
    "# 연산 방법) 1. 특정 위치에 문자 삽입 2. 특정 위치의 문자 삭제 3. 특정 위치의 문자 교체\n",
    "\n",
    "# 체크) A -> B 연산 수와 B -> A 연산 수가 같음\n",
    "\n",
    "def solution(a, b):\n",
    "    checked = [[-1] * len(b) for _ in range(len(a))] # a[i:] -> b[j:] 만들 때 최소 연산 횟수\n",
    "\n",
    "    # 이전 문자열은 맞춰졌다고 가정\n",
    "    def convert(a_idx, b_idx, cnt):\n",
    "        # base case 1: 문자열 완성\n",
    "        if a_idx == len(a) and b_idx == len(b):\n",
    "            return cnt\n",
    "        # base case2: A가 길어서 남은 경우 -> 삭제\n",
    "        elif b_idx == len(b):\n",
    "            return cnt + (len(a) - a_idx)\n",
    "        # base case3: B가 길어서 남은 경우 -> 추가\n",
    "        elif a_idx == len(a):\n",
    "            return cnt + (len(b) - b_idx)\n",
    "\n",
    "        # 다음 문자열을 맞춘다\n",
    "        # 0. 이미 맞춰본 경우\n",
    "        if checked[a_idx][b_idx] >= 0:\n",
    "            return cnt + checked[a_idx][b_idx]\n",
    "        # 1. 맨 앞이 일치하는 경우 -> 패스\n",
    "        if a[a_idx] == b[b_idx]:\n",
    "            return convert(a_idx + 1, b_idx + 1, cnt)\n",
    "        # 2. 일치하지 않는 경우\n",
    "        else:\n",
    "            # 삽입\n",
    "            tmp_cnt = convert(a_idx, b_idx + 1, cnt + 1)\n",
    "            # 삭제\n",
    "            tmp_cnt = min(tmp_cnt, convert(a_idx + 1, b_idx, cnt + 1))\n",
    "            # 교체\n",
    "            tmp_cnt = min(tmp_cnt, convert(a_idx + 1, b_idx + 1, cnt + 1))\n",
    "            checked[a_idx][b_idx] = tmp_cnt - cnt\n",
    "            return tmp_cnt\n",
    "\n",
    "    return convert(0, 0, 0)\n",
    "\n",
    "if __name__ == \"__main__\":\n",
    "\n",
    "    # a = input()\n",
    "    # b = input()\n",
    "\n",
    "    # ex1) 답 1\n",
    "    a = \"cat\"\n",
    "    b = \"cut\"\n",
    "\n",
    "    # ex2) 답 3\n",
    "    a = \"sunday\"\n",
    "    b = \"saturday\"\n",
    "\n",
    "    # ex3) 답 3\n",
    "    a = \"saturday\"\n",
    "    b = \"sunday\"\n",
    "\n",
    "    # ex4) 답 1\n",
    "    a = \"dsunday\"\n",
    "    b = \"sunday\"\n",
    "\n",
    "    # ex5) 답 2\n",
    "    a = \"staurday\"\n",
    "    b = \"saturday\"\n",
    "\n",
    "    # ex6) 답 2\n",
    "    a = \"saturday\"\n",
    "    b = \"staurday\"\n",
    "\n",
    "    # ex7) 답 3\n",
    "    a = \"surtday\"\n",
    "    b = \"saturday\"\n",
    "\n",
    "    # ex8) 답 3\n",
    "    a = \"saturday\"\n",
    "    b = \"surtday\"\n",
    "\n",
    "    print(solution(a, b))"
   ]
  }
 ],
 "metadata": {
  "kernelspec": {
   "display_name": "Python 3",
   "language": "python",
   "name": "python3"
  },
  "language_info": {
   "codemirror_mode": {
    "name": "ipython",
    "version": 3
   },
   "file_extension": ".py",
   "mimetype": "text/x-python",
   "name": "python",
   "nbconvert_exporter": "python",
   "pygments_lexer": "ipython3",
   "version": "3.7.4"
  },
  "varInspector": {
   "cols": {
    "lenName": 16,
    "lenType": 16,
    "lenVar": 40
   },
   "kernels_config": {
    "python": {
     "delete_cmd_postfix": "",
     "delete_cmd_prefix": "del ",
     "library": "var_list.py",
     "varRefreshCmd": "print(var_dic_list())"
    },
    "r": {
     "delete_cmd_postfix": ") ",
     "delete_cmd_prefix": "rm(",
     "library": "var_list.r",
     "varRefreshCmd": "cat(var_dic_list()) "
    }
   },
   "types_to_exclude": [
    "module",
    "function",
    "builtin_function_or_method",
    "instance",
    "_Feature"
   ],
   "window_display": false
  }
 },
 "nbformat": 4,
 "nbformat_minor": 4
}

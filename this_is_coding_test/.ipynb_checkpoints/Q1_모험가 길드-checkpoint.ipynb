{
 "cells": [
  {
   "cell_type": "markdown",
   "metadata": {
    "ExecuteTime": {
     "end_time": "2021-01-25T23:26:05.503477Z",
     "start_time": "2021-01-25T23:26:05.478450Z"
    }
   },
   "source": [
    "# 모험가 길드\n",
    "한 마을에 모험가가 N명이 있고 모험가를 대상으로 공포도를 측정했다. 공포도가 X인 모험가는 반드시 X명 이상으로 구성한 모험가 그룹에 참여해야 여행을 떠날 수 있다는 규정이 있다. 길드장은 최대 몇 개의 모험가 그룹을 만들 수 있는지 궁금해한다. 길드장을 위해 N명의 모험가에 대한 정보가 주어졌을 때, 여행을 떠날 수 있는 그룹 수의 최대값을 구하는 프로그램을 작성하시오. 단, 몇 명의 모험가는 마을에 그대로 남아 있어도 되기 때문에, 모든 모험가를 특정한 그룹에 넣을 필요는 없다.\n",
    "입력 조건\n",
    "\n",
    "첫째 줄에 모험가의 수가 주어진다. (1<=N<=100,000)\n",
    "둘째 줄에 각 모험가의 공포도의 값을 N이하의 자연수로 주어지며 공백으로 구분한다.\n",
    "출력 조건\n",
    "\n",
    "여행을 떠날 수 있는 그룹의 최대 수를 출력한다.\n",
    "\n",
    "\n",
    "입력예시\n",
    "```\n",
    "5\n",
    "2 3 1 2 2\n",
    "```\n",
    "출력 예시\n",
    "```\n",
    "2\n",
    "```"
   ]
  },
  {
   "cell_type": "markdown",
   "metadata": {},
   "source": [
    "# 은선"
   ]
  },
  {
   "cell_type": "code",
   "execution_count": 2,
   "metadata": {},
   "outputs": [
    {
     "name": "stdout",
     "output_type": "stream",
     "text": [
      "5\n",
      "2 3 1 2 2\n",
      "2\n"
     ]
    }
   ],
   "source": [
    "def solution():\n",
    "    _ = int(input())\n",
    "    ls = list(map(int, input().split()))\n",
    "    ls = sorted(ls)\n",
    "\n",
    "    groups, cnt = 0, 0\n",
    "\n",
    "    for i in ls: \n",
    "        cnt += 1 \n",
    "        if cnt >= i: \n",
    "            groups += 1 \n",
    "            cnt = 0 \n",
    "\n",
    "    return groups\n",
    "\n",
    "\n",
    "if __name__ == \"__main__\":\n",
    "    print(solution())"
   ]
  }
 ],
 "metadata": {
  "kernelspec": {
   "display_name": "Python 3",
   "language": "python",
   "name": "python3"
  },
  "language_info": {
   "codemirror_mode": {
    "name": "ipython",
    "version": 3
   },
   "file_extension": ".py",
   "mimetype": "text/x-python",
   "name": "python",
   "nbconvert_exporter": "python",
   "pygments_lexer": "ipython3",
   "version": "3.7.4"
  },
  "varInspector": {
   "cols": {
    "lenName": 16,
    "lenType": 16,
    "lenVar": 40
   },
   "kernels_config": {
    "python": {
     "delete_cmd_postfix": "",
     "delete_cmd_prefix": "del ",
     "library": "var_list.py",
     "varRefreshCmd": "print(var_dic_list())"
    },
    "r": {
     "delete_cmd_postfix": ") ",
     "delete_cmd_prefix": "rm(",
     "library": "var_list.r",
     "varRefreshCmd": "cat(var_dic_list()) "
    }
   },
   "types_to_exclude": [
    "module",
    "function",
    "builtin_function_or_method",
    "instance",
    "_Feature"
   ],
   "window_display": false
  }
 },
 "nbformat": 4,
 "nbformat_minor": 4
}

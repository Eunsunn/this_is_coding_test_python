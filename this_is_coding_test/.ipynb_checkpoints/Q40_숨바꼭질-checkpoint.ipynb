{
 "cells": [
  {
   "cell_type": "markdown",
   "metadata": {},
   "source": [
    "# 숨바꼭질\n",
    "숨바꼭질을 하면서 술래로부터 잡히지 않도록 숨을 곳을 찾고 있다. 1~N번가지의 헛간 중에서 하나를 골라 숨을 수 있으며, 술래는 항상 1번 헛간에서 출발한다. 전체 맵에는 총 M개의 양방향 통로가 존재하며, 하나의 통로는 서로 다른 두 헛간을 연결한다. 또한 전체 맵은 항상 어떤 헛간에서 다른 헛간으로 도달이 가능한 형태로 주어진다.\n",
    "1번 헛간으로부터 최단거리가 가장 먼 헛간이 가장 안전하다고 판단한다. 이때 최단거리는 지나야 하는 길의 최소 개수를 의미한다. 숨을 헛간의 번호를 출력하는 프로그램을 작성하시오.\n",
    "\n",
    "<h6>입력 조건</h6>\n",
    "첫째 줄에는 N과 M이 공백으로 구분되어 주어진다. (2<=N<=20,000), (1<=M<=50,000)\n",
    "이후 M개의 줄에 걸쳐서 서로 연결된 두 헛간 A와 B의 번호가 공백으로 구분되어 주어진다. (1<=A,B<=N)\n",
    "<h6>출력 조건</h6>\n",
    "첫번째는 숨어야 하는 헛간의 번호를 (만약 거리가 같은 헛간이 여러개면 가장 작은 헛간의 번호) 출력한다. 두번째는 그 헛간까지의 거리를, 세번째는 그 헛간과 같은 거리를 갖는 헛간의 개수를 출력한다."
   ]
  },
  {
   "cell_type": "markdown",
   "metadata": {},
   "source": [
    "# 은선"
   ]
  },
  {
   "cell_type": "code",
   "execution_count": null,
   "metadata": {},
   "outputs": [],
   "source": [
    "import sys\n",
    "import heapq\n",
    "\n",
    "def solution():\n",
    "    input = sys.stdin.readline\n",
    "    n, m = map(int, input().split())\n",
    "    \n",
    "    connected = [[False] * (n + 1) for _ in range(n + 1)]\n",
    "    for _ in range(m):\n",
    "        node1, node2 = map(int, input().split())\n",
    "        connected[node1][node2] = connected[node2][node1] = True\n",
    "\n",
    "    # 각 노드에 대해 start으로부터의 최소거리를 찾는다.\n",
    "    def dijkstra(start):\n",
    "        distance = [False] * (n + 1)\n",
    "        q = []\n",
    "        # 시작노드로 초기화\n",
    "        distance[start] = 0\n",
    "        heapq.heappush(q, (distance[start], start))\n",
    "        while q:\n",
    "            d, node = heapq.heappop(q)\n",
    "            if distance[node] < d:\n",
    "                continue\n",
    "            # 이번 노드와 연결된 다음 노드 탐색\n",
    "            for next_node in range(1, n + 1):\n",
    "                if connected[node][next_node] and (not distance[next_node] or d + 1 < distance[next_node]):\n",
    "                    distance[next_node] = d + 1\n",
    "                    heapq.heappush(q, (distance[next_node], next_node))\n",
    "\n",
    "        return distance\n",
    "\n",
    "    distance = dijkstra(1)\n",
    "    number, max_distance, count = 0, 0, 0\n",
    "    for i in range(2, n + 1):\n",
    "        # 새로운 최대값\n",
    "        if max_distance < distance[i]:\n",
    "            number = i\n",
    "            max_distance = distance[i]\n",
    "            count = 1\n",
    "        # 최대값 여러개\n",
    "        elif max_distance == distance[i]:\n",
    "            count += 1\n",
    "\n",
    "    return number, max_distance, count\n",
    "    \n",
    "\n",
    "    \n",
    "if __name__ == \"__main__\":\n",
    "    import time\n",
    "    start_time = time.time()\n",
    "    num, min_d, count = solution()\n",
    "    print(num, end=\" \")\n",
    "    print(min_d, end=\" \")\n",
    "    print(count)\n",
    "    print(\"소요시간:\", time.time() - start_time)"
   ]
  }
 ],
 "metadata": {
  "kernelspec": {
   "display_name": "Python 3",
   "language": "python",
   "name": "python3"
  },
  "language_info": {
   "codemirror_mode": {
    "name": "ipython",
    "version": 3
   },
   "file_extension": ".py",
   "mimetype": "text/x-python",
   "name": "python",
   "nbconvert_exporter": "python",
   "pygments_lexer": "ipython3",
   "version": "3.7.4"
  },
  "varInspector": {
   "cols": {
    "lenName": 16,
    "lenType": 16,
    "lenVar": 40
   },
   "kernels_config": {
    "python": {
     "delete_cmd_postfix": "",
     "delete_cmd_prefix": "del ",
     "library": "var_list.py",
     "varRefreshCmd": "print(var_dic_list())"
    },
    "r": {
     "delete_cmd_postfix": ") ",
     "delete_cmd_prefix": "rm(",
     "library": "var_list.r",
     "varRefreshCmd": "cat(var_dic_list()) "
    }
   },
   "types_to_exclude": [
    "module",
    "function",
    "builtin_function_or_method",
    "instance",
    "_Feature"
   ],
   "window_display": false
  }
 },
 "nbformat": 4,
 "nbformat_minor": 4
}

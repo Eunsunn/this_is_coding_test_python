{
 "cells": [
  {
   "cell_type": "markdown",
   "metadata": {},
   "source": [
    "<h1>문자열 재정렬</h1>\n",
    "\n",
    "알파벳 대문자와 숫자(0~9)로만 구성된 문자열이 입력으로 주어진다.\n",
    "이때 모든 알파벳을 오름차순으로 정렬하여 이어서 출력한 뒤에, 그 모든 숫자를 더한 값을 이어서 출력합니다.\n",
    "예를 들어 K1KA5CB7이라는 값이 들어오면 ABCKK13을 출력합니다.\n",
    "\n",
    "- 입력조건: 첫째줄에 하나의 문자열 S가 주어집니다. (1 <= S길이 <= 10,000)\n",
    "- 출력조건: 첫째줄에 문제에서 요구하는 정답을 출력합니다."
   ]
  },
  {
   "cell_type": "markdown",
   "metadata": {
    "ExecuteTime": {
     "end_time": "2021-02-07T02:19:48.657264Z",
     "start_time": "2021-02-07T02:19:48.641359Z"
    }
   },
   "source": [
    "# 은선"
   ]
  },
  {
   "cell_type": "code",
   "execution_count": null,
   "metadata": {},
   "outputs": [],
   "source": [
    "# input 문자열을 재정렬\n",
    "# 알파벳 오름차순 출력 후 숫자 합 출력\n",
    "\n",
    "# O(NlogN)\n",
    "# 문자를 리스트에 다 집어넣고 .sort()해도 O(NlogN)\n",
    "import heapq\n",
    "def solution(string: str):\n",
    "    alpha, num = [], 0\n",
    "\n",
    "    for element in string:\n",
    "        if element.isdigit():\n",
    "            num += int(element)\n",
    "        else:\n",
    "            heapq.heappush(alpha, element)\n",
    "    \n",
    "    while alpha:\n",
    "        print(heapq.heappop(alpha), end='')\n",
    "    print(num)\n",
    "    \n",
    "\n",
    "# string = input()\n",
    "# string = \"K1KA5CB7\"\n",
    "string = 'AJKDLSI412K4JSJ9D'\n",
    "solution(string)"
   ]
  }
 ],
 "metadata": {
  "kernelspec": {
   "display_name": "Python 3",
   "language": "python",
   "name": "python3"
  },
  "language_info": {
   "codemirror_mode": {
    "name": "ipython",
    "version": 3
   },
   "file_extension": ".py",
   "mimetype": "text/x-python",
   "name": "python",
   "nbconvert_exporter": "python",
   "pygments_lexer": "ipython3",
   "version": "3.7.4"
  },
  "varInspector": {
   "cols": {
    "lenName": 16,
    "lenType": 16,
    "lenVar": 40
   },
   "kernels_config": {
    "python": {
     "delete_cmd_postfix": "",
     "delete_cmd_prefix": "del ",
     "library": "var_list.py",
     "varRefreshCmd": "print(var_dic_list())"
    },
    "r": {
     "delete_cmd_postfix": ") ",
     "delete_cmd_prefix": "rm(",
     "library": "var_list.r",
     "varRefreshCmd": "cat(var_dic_list()) "
    }
   },
   "types_to_exclude": [
    "module",
    "function",
    "builtin_function_or_method",
    "instance",
    "_Feature"
   ],
   "window_display": false
  }
 },
 "nbformat": 4,
 "nbformat_minor": 4
}

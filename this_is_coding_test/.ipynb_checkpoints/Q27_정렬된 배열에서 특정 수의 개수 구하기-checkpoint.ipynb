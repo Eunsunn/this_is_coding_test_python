{
 "cells": [
  {
   "cell_type": "markdown",
   "metadata": {},
   "source": [
    "# 정렬된 배열에서 특정 수의 개수 구하기\n",
    "\n",
    "N개의 원소를 포함하고 있는 수열이 오름차순으로 정렬되어 있다. 이때 이 수열에서 x가 등장하는 횟수를 계산하시오.\n",
    "단, 이 문제는 시간복잡도 O(logN)으로 알고리즘을 설계하지 않으면 '시간초과'입니다.\n",
    "\n",
    "<h6>입력조건</h6>\n",
    "\n",
    "- 첫째 줄에 N과 x가 정수 형태로 공백으로 구분되어 입력됩니다. (1<=N<=1,000,000, -10<sup>9</sup><=x<=10<sup>9</sup>)\n",
    "- 둘째 줄에 N개의 원소가 정수 형태로 공백으로 구분되어 입력됩니다. (-10<sup>9</sup><=각 원소의 값<=10<sup>9</sup>)\n",
    "\n",
    "<h6>출력 조건</h6>\n",
    "\n",
    "- 수열의 원소 중에서 값이 x인 원소의 개수를 출력합니다. 단, x가 하나도 없다면 -1을 출력합니다."
   ]
  },
  {
   "cell_type": "markdown",
   "metadata": {},
   "source": [
    "# 은선"
   ]
  },
  {
   "cell_type": "code",
   "execution_count": null,
   "metadata": {},
   "outputs": [],
   "source": [
    "def solution():\n",
    "    n, target = map(int, input().split())\n",
    "    nums = list(map(int, input().split()))\n",
    "\n",
    "    def recursive_min(start, end):\n",
    "        if start > end:\n",
    "            return n\n",
    "\n",
    "        mid = (start + end) // 2\n",
    "        if nums[mid] == target and (mid == 0 or target > nums[mid-1]):\n",
    "            return mid\n",
    "        elif nums[mid] >= target:\n",
    "            return recursive_min(start, mid-1)\n",
    "        else:\n",
    "            return recursive_min(mid+1, end)\n",
    "\n",
    "    def recursive_max(start, end):\n",
    "        if start > end:\n",
    "            return n\n",
    "\n",
    "        mid = (start + end) // 2\n",
    "        if nums[mid] == target and (mid == n-1 or target < nums[mid+1]):\n",
    "            return mid\n",
    "        elif nums[mid] > target:\n",
    "            return recursive_max(start, mid-1)\n",
    "        else:\n",
    "            return recursive_max(mid+1, end)\n",
    "\n",
    "\n",
    "    left, right = recursive_min(0, n-1), recursive_max(0, n-1)\n",
    "    if left == n:\n",
    "        return -1\n",
    "    else:\n",
    "        return right - left + 1\n",
    "\n",
    "print(solution())"
   ]
  }
 ],
 "metadata": {
  "kernelspec": {
   "display_name": "Python 3",
   "language": "python",
   "name": "python3"
  },
  "language_info": {
   "codemirror_mode": {
    "name": "ipython",
    "version": 3
   },
   "file_extension": ".py",
   "mimetype": "text/x-python",
   "name": "python",
   "nbconvert_exporter": "python",
   "pygments_lexer": "ipython3",
   "version": "3.7.4"
  },
  "varInspector": {
   "cols": {
    "lenName": 16,
    "lenType": 16,
    "lenVar": 40
   },
   "kernels_config": {
    "python": {
     "delete_cmd_postfix": "",
     "delete_cmd_prefix": "del ",
     "library": "var_list.py",
     "varRefreshCmd": "print(var_dic_list())"
    },
    "r": {
     "delete_cmd_postfix": ") ",
     "delete_cmd_prefix": "rm(",
     "library": "var_list.r",
     "varRefreshCmd": "cat(var_dic_list()) "
    }
   },
   "types_to_exclude": [
    "module",
    "function",
    "builtin_function_or_method",
    "instance",
    "_Feature"
   ],
   "window_display": false
  }
 },
 "nbformat": 4,
 "nbformat_minor": 4
}

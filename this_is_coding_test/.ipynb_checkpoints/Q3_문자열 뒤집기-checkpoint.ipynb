{
 "cells": [
  {
   "cell_type": "markdown",
   "metadata": {},
   "source": [
    "# 뒤집기\n",
    "다솜이는 0과 1로만 이루어진 문자열 S를 가지고 있다. 다솜이는 이 문자열 S에 있는 모든 숫자를 전부 같게 만들려고 한다. 다솜이가 할 수 있는 행동은 S에서 연속된 하나 이상의 숫자를 잡고 모두 뒤집는 것이다. 뒤집는 것은 1을 0으로, 0을 1로 바꾸는 것을 의미한다.\n",
    "\n",
    "\n",
    "예를 들어 S=0001100 일 때,\n",
    "\n",
    "\n",
    "전체를 뒤집으면 1110011이 된다.\n",
    "4번째 문자부터 5번째 문자까지 뒤집으면 1111111이 되어서 2번 만에 모두 같은 숫자로 만들 수 있다.\n",
    "하지만, 처음부터 4번째 문자부터 5번째 문자까지 문자를 뒤집으면 한 번에 0000000이 되어서 1번 만에 모두 같은 숫자로 만들 수 있다.\n",
    "\n",
    "문자열 S가 주어졌을 때, 다솜이가 해야하는 행동의 최소 횟수를 출력하시오.\n",
    "\n",
    "#### 입력\n",
    "첫째 줄에 문자열 S가 주어진다. S의 길이는 100만보다 작다.\n",
    "\n",
    "#### 출력\n",
    "첫째 줄에 다솜이가 해야하는 행동의 최소 횟수를 출력한다.\n",
    "\n",
    "#### 예제 입력 \n",
    "0001100\n",
    "#### 예제 출력 \n",
    "1"
   ]
  },
  {
   "cell_type": "markdown",
   "metadata": {},
   "source": [
    "# 은선"
   ]
  },
  {
   "cell_type": "code",
   "execution_count": null,
   "metadata": {},
   "outputs": [],
   "source": [
    "# https://www.acmicpc.net/problem/1439\n",
    "\n",
    "def solution(S: str):\n",
    "    # 연속하는 횟수 카운트\n",
    "    cnt = [0, 0]\n",
    "    for i in range(len(S)):\n",
    "        if i==0 or (S[i]!=S[i-1]):\n",
    "            cnt[int(S[i])] += 1\n",
    "\n",
    "    # 문자열 뒤집기: 연속하는 횟수의 최소값만큼 뒤집음\n",
    "    return min(cnt)\n",
    "\n",
    "\n",
    "# S = \"0001100\"\n",
    "# S = \"0\"\n",
    "# S = \"\"\n",
    "# S = \"0101\"\n",
    "# S = \"1111\"\n",
    "# S = \"111010\"\n",
    "# S = \"1100000000000000011\"\n",
    "S = input()\n",
    "print(solution(S))"
   ]
  }
 ],
 "metadata": {
  "kernelspec": {
   "display_name": "Python 3",
   "language": "python",
   "name": "python3"
  },
  "language_info": {
   "codemirror_mode": {
    "name": "ipython",
    "version": 3
   },
   "file_extension": ".py",
   "mimetype": "text/x-python",
   "name": "python",
   "nbconvert_exporter": "python",
   "pygments_lexer": "ipython3",
   "version": "3.7.4"
  },
  "varInspector": {
   "cols": {
    "lenName": 16,
    "lenType": 16,
    "lenVar": 40
   },
   "kernels_config": {
    "python": {
     "delete_cmd_postfix": "",
     "delete_cmd_prefix": "del ",
     "library": "var_list.py",
     "varRefreshCmd": "print(var_dic_list())"
    },
    "r": {
     "delete_cmd_postfix": ") ",
     "delete_cmd_prefix": "rm(",
     "library": "var_list.r",
     "varRefreshCmd": "cat(var_dic_list()) "
    }
   },
   "types_to_exclude": [
    "module",
    "function",
    "builtin_function_or_method",
    "instance",
    "_Feature"
   ],
   "window_display": false
  }
 },
 "nbformat": 4,
 "nbformat_minor": 4
}

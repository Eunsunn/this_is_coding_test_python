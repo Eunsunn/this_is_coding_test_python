{
 "cells": [
  {
   "cell_type": "markdown",
   "metadata": {},
   "source": [
    "# 고정점 찾기\n",
    "\n",
    "고정점이란, 수열의 원소 중에서 그 값이 인덱스와 동일한 원소를 의미합니다.\n",
    "예를 들어 수열 a = {-15, -4, 2, 8, 13}이 있을 때 2번째 원소의 값이 2 이므로 고정점은 2가 됩니다.\n",
    "\n",
    "하나의 수열이 N개의 서로다른 원소를 포함하고 있으며, 모든 원소가 오름차순으로 정렬되어 있습니다. \n",
    "이때 이 수열에서 고정점이 있다면, 고정점을 출력하는 프로그램을 작성하세요.\n",
    "고정점은 최대 1개만 존재하며, 고정점이 없다면 -1을 출력합니다.\n",
    "\n",
    "<h6>입력조건</h6>\n",
    "첫째 줄에 N이 입력됩니다. (1<=N<=1,000,000)\n",
    "둘째 줄에 N개의 원소가 정수 형태로 공백으로 구분되어 입력됩니다. (-10<sup>9</sup><=각 원소의 값<=10<sup>9</sup>)\n",
    "\n",
    "<h6>출력 조건</h6>\n",
    "고정점을 출력한다. 고정점이 없다면 -1을 출력한다."
   ]
  },
  {
   "cell_type": "markdown",
   "metadata": {},
   "source": [
    "# 은선"
   ]
  },
  {
   "cell_type": "code",
   "execution_count": null,
   "metadata": {},
   "outputs": [],
   "source": [
    "def solution(nums):\n",
    "    def find_point(start, end):\n",
    "        if start > end:\n",
    "            return -1\n",
    "        if start == end:\n",
    "            if nums[start] == start:\n",
    "                return start\n",
    "            else:\n",
    "                return -1\n",
    "\n",
    "        mid = (start + end) // 2\n",
    "        if nums[mid] == mid:\n",
    "            return mid\n",
    "        elif nums[mid] > mid:\n",
    "            return find_point(start, mid-1)\n",
    "        else:\n",
    "            return find_point(mid+1, end)\n",
    "\n",
    "    return find_point(0, len(nums))\n",
    "\n",
    "\n",
    "if __name__ == \"__main__\":\n",
    "    # input()\n",
    "    # nums = list(map(int, input().split()))\n",
    "\n",
    "    nums = '-15 -6 1 3 7'\n",
    "    nums = list(map(int, nums.split()))\n",
    "    print(solution(nums))\n",
    "    \n",
    "    nums = '-15 -4 2 8 9 13 15'\n",
    "    nums = list(map(int, nums.split()))\n",
    "    print(solution(nums))\n",
    "\n",
    "    nums = '-15 -4 3 8 9 13 15'\n",
    "    nums = list(map(int, nums.split()))\n",
    "    print(solution(nums))"
   ]
  }
 ],
 "metadata": {
  "kernelspec": {
   "display_name": "Python 3",
   "language": "python",
   "name": "python3"
  },
  "language_info": {
   "codemirror_mode": {
    "name": "ipython",
    "version": 3
   },
   "file_extension": ".py",
   "mimetype": "text/x-python",
   "name": "python",
   "nbconvert_exporter": "python",
   "pygments_lexer": "ipython3",
   "version": "3.7.4"
  },
  "varInspector": {
   "cols": {
    "lenName": 16,
    "lenType": 16,
    "lenVar": 40
   },
   "kernels_config": {
    "python": {
     "delete_cmd_postfix": "",
     "delete_cmd_prefix": "del ",
     "library": "var_list.py",
     "varRefreshCmd": "print(var_dic_list())"
    },
    "r": {
     "delete_cmd_postfix": ") ",
     "delete_cmd_prefix": "rm(",
     "library": "var_list.r",
     "varRefreshCmd": "cat(var_dic_list()) "
    }
   },
   "types_to_exclude": [
    "module",
    "function",
    "builtin_function_or_method",
    "instance",
    "_Feature"
   ],
   "window_display": false
  }
 },
 "nbformat": 4,
 "nbformat_minor": 4
}

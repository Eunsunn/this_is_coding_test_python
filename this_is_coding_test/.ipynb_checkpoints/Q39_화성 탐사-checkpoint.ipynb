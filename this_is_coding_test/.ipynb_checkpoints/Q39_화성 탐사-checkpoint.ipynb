{
 "cells": [
  {
   "cell_type": "markdown",
   "metadata": {},
   "source": [
    "# 화성 탐사\n",
    "\n",
    "n (1<=n<=100)개의 도시가 있고, 한 도시에서 출발하여 다른 도시에 도착하는 m(1<=m<=100,000)개의 버스가 있습니다. 각 버스는 한 번 사용할 때 필요한 비용이 있다. 모든 도시의 쌍 (A, B)에 대해서 도시 A에서 도시 B로 가는 데 필요한 비용의 최솟값을 구하는 프로그램을 작성하세요.\n",
    "\n",
    "\n",
    "<h6>입력 조건</h6>\n",
    "\n",
    "1. 첫째 줄에 도시의 개수 n (1<=n<=100)이 주어진다.\n",
    "2. 둘째 줄에 버스의 개수 m (1<=m<=100,000)이 주어진다.\n",
    "3. 셋째 줄부터 m + 2 줄까지 다음과 같은 버스의 정보가 주어진다. 처음에는 버스의 출발 도시가 주어진다. 버스의 정보는 버스의 시작도시 a, 도착도시 b, 한번 타는데 필요한 비용 c로 이루어져 있다. 시작 도시와 도착 도시가 같은 경우는 없다. 비용은 100,000보다 작거나 같은 자연수이다.\n",
    "4. 시작 도시와 도착 도시를 연결하는 노선은 하나가 아닐 수도 있다.\n",
    "\n",
    "<h6>출력 조건</h6>\n",
    "\n",
    "n개의 줄을 출력해야 한다. i번째 줄에 출력하는 j번째 숫자는 도시 i에서 도시 j로 가는데에 필요한 최소비용이다. 만약 i에서 j로 갈 수 없다면 그 자리에는 0을 출력한다."
   ]
  },
  {
   "cell_type": "markdown",
   "metadata": {},
   "source": [
    "# 은선"
   ]
  },
  {
   "cell_type": "code",
   "execution_count": null,
   "metadata": {},
   "outputs": [],
   "source": [
    "# 화성 탐사\n",
    "# NxN 크기에 각 비용이 적혀있을 때\n",
    "# [0][0]에서 [N-1][N-1]로 가는 최소 비용을 찾는다.\n",
    "# solution) 모든 위치에 대해 최소비용을 찾음\n",
    "\n",
    "import sys\n",
    "import heapq\n",
    "\n",
    "def solution():\n",
    "    input = sys.stdin.readline\n",
    "    xdir = [1, -1, 0, 0] # 동, 서, 남, 북\n",
    "    ydir = [0, 0, 1, -1]\n",
    "    directions = 4\n",
    "    case = int(input())\n",
    "\n",
    "    def get_min_dist():\n",
    "        n = int(input())\n",
    "        INF = 9 * 2 * n # 최대 비용\n",
    "        cost = [] # 각 칸의 비용\n",
    "        for _ in range(n):\n",
    "            cost.append(list(map(int, input().split())))\n",
    "        min_cost = [[INF] * n for _ in range(n)] # 최소 비용\n",
    "        q = [] # Q) 결국은 모든 경로를 확인해야하는데, 굳이 heapq?? 그냥 queue로 해도 되지 않나\n",
    "        # 시작점 초기화\n",
    "        min_cost[0][0] = cost[0][0]\n",
    "        heapq.heappush(q, (cost[0][0], 0, 0)) # 비용, row, col\n",
    "        while q:\n",
    "            c, row, col = heapq.heappop(q)\n",
    "            if min_cost[row][col] < c:\n",
    "                continue\n",
    "            for i in range(directions):\n",
    "                tmp_r, tmp_c = row + ydir[i], col + xdir[i]\n",
    "                if 0 <= tmp_r < n and 0 <= tmp_c < n:\n",
    "                    # 새로운 최단 경로 발견\n",
    "                    if c + cost[tmp_r][tmp_c] < min_cost[tmp_r][tmp_c]:\n",
    "                        min_cost[tmp_r][tmp_c] = c + cost[tmp_r][tmp_c]\n",
    "                        heapq.heappush(q, (min_cost[tmp_r][tmp_c], tmp_r, tmp_c))\n",
    "        return min_cost[-1][-1]\n",
    "\n",
    "    for _ in range(case):\n",
    "        print(get_min_dist())\n",
    "\n",
    "\n",
    "\n",
    "\n",
    "\n",
    "if __name__== \"__main__\":\n",
    "    import time\n",
    "    start = time.time()\n",
    "    solution()\n",
    "    print(\"소요시간:\", time.time() - start)"
   ]
  }
 ],
 "metadata": {
  "kernelspec": {
   "display_name": "Python 3",
   "language": "python",
   "name": "python3"
  },
  "language_info": {
   "codemirror_mode": {
    "name": "ipython",
    "version": 3
   },
   "file_extension": ".py",
   "mimetype": "text/x-python",
   "name": "python",
   "nbconvert_exporter": "python",
   "pygments_lexer": "ipython3",
   "version": "3.7.4"
  },
  "varInspector": {
   "cols": {
    "lenName": 16,
    "lenType": 16,
    "lenVar": 40
   },
   "kernels_config": {
    "python": {
     "delete_cmd_postfix": "",
     "delete_cmd_prefix": "del ",
     "library": "var_list.py",
     "varRefreshCmd": "print(var_dic_list())"
    },
    "r": {
     "delete_cmd_postfix": ") ",
     "delete_cmd_prefix": "rm(",
     "library": "var_list.r",
     "varRefreshCmd": "cat(var_dic_list()) "
    }
   },
   "types_to_exclude": [
    "module",
    "function",
    "builtin_function_or_method",
    "instance",
    "_Feature"
   ],
   "window_display": false
  }
 },
 "nbformat": 4,
 "nbformat_minor": 4
}

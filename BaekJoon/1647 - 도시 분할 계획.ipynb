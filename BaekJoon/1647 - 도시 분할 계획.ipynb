{
 "cells": [
  {
   "cell_type": "markdown",
   "metadata": {},
   "source": [
    "https://www.acmicpc.net/problem/1647"
   ]
  },
  {
   "cell_type": "markdown",
   "metadata": {},
   "source": [
    "<section id=\"description\" class=\"problem-section\">\n",
    "\t\t\t\t<div class=\"headline\">\n",
    "\t\t\t\t<h2>문제</h2>\n",
    "\t\t\t\t</div>\n",
    "\t\t\t\t<div id=\"problem_description\" class=\"problem-text\">\n",
    "\t\t\t\t<p>동물원에서 막 탈출한 원숭이 한 마리가 세상구경을 하고 있다. 그러다가 평화로운 마을에 가게 되었는데, 그곳에서는 알 수 없는 일이 벌어지고 있었다.</p>\n",
    "\n",
    "<p>마을은 N개의 집과 그 집들을 연결하는 M개의 길로 이루어져 있다. 길은 어느 방향으로든지 다닐 수 있는 편리한 길이다. 그리고 각 길마다 길을 유지하는데 드는 유지비가 있다.</p>\n",
    "\n",
    "<p>마을의 이장은 마을을 두 개의 분리된 마을로 분할할 계획을 가지고 있다. 마을이 너무 커서 혼자서는 관리할 수 없기 때문이다. 마을을 분할할 때는 각 분리된 마을 안에 집들이 서로 연결되도록 분할해야 한다. 각 분리된 마을 안에 있는 임의의 두 집 사이에 경로가 항상 존재해야 한다는 뜻이다. 마을에는 집이 하나 이상 있어야 한다.</p>\n",
    "\n",
    "<p>그렇게 마을의 이장은 계획을 세우다가 마을 안에 길이 너무 많다는 생각을 하게 되었다. 일단 분리된 두 마을 사이에 있는 길들은 필요가 없으므로 없앨 수 있다. 그리고 각 분리된 마을 안에서도 임의의 두 집 사이에 경로가 항상 존재하게 하면서 길을 더 없앨 수 있다. 마을의 이장은 위 조건을 만족하도록 길들을 모두 없애고 나머지 길의 유지비의 합을 최소로 하고 싶다. 이것을 구하는 프로그램을 작성하시오.</p>\n",
    "</div>\n",
    "</section>"
   ]
  },
  {
   "cell_type": "markdown",
   "metadata": {},
   "source": [
    "<section id=\"input\" class=\"problem-section\">\n",
    "\t\t\t\t\t<div class=\"headline\">\n",
    "\t\t\t\t\t<h2>입력</h2>\n",
    "\t\t\t\t\t</div>\n",
    "\t\t\t\t\t<div id=\"problem_input\" class=\"problem-text\">\n",
    "\t\t\t\t\t<p>첫째 줄에 집의 개수N, 길의 개수M이 주어진다. N은 2이상 100,000이하인 정수이고, M은 1이상 1,000,000이하인 정수이다. 그 다음 줄부터 M줄에 걸쳐 길의 정보가 A B C 세 개의 정수로 주어지는데 A번 집과 B번 집을 연결하는 길의 유지비가 C (1 ≤ C ≤ 1,000)라는 뜻이다.</p>\n",
    "\n",
    "</div>\n",
    "</section>"
   ]
  },
  {
   "cell_type": "markdown",
   "metadata": {},
   "source": [
    "<section id=\"output\" class=\"problem-section\">\n",
    "\t\t\t\t\t<div class=\"headline\">\n",
    "\t\t\t\t\t<h2>출력</h2>\n",
    "\t\t\t\t\t</div>\n",
    "\t\t\t\t\t<div id=\"problem_output\" class=\"problem-text\">\n",
    "\t\t\t\t\t<p>첫째 줄에 없애고 남은 길 유지비의 합의 최솟값을 출력한다.</p>\n",
    "\n",
    "</div>\n",
    "</section>"
   ]
  },
  {
   "cell_type": "markdown",
   "metadata": {},
   "source": [
    "<section id=\"sampleinput1\">\n",
    "\t\t\t\t\t\t<div class=\"headline\">\n",
    "\t\t\t\t\t\t<h2>예제 입력 1\n",
    "\t\t\t\t\t\t\t<button type=\"button\" class=\"btn btn-link copy-button\" style=\"padding: 0px;\" data-clipboard-target=\"#sample-input-1\">복사</button>\n",
    "\t\t\t\t\t\t</h2>\n",
    "\t\t\t\t\t\t</div>\n",
    "\t\t\t\t\t\t<pre class=\"sampledata\" id=\"sample-input-1\">7 12\n",
    "1 2 3\n",
    "1 3 2\n",
    "3 2 1\n",
    "2 5 2\n",
    "3 4 4\n",
    "7 3 6\n",
    "5 1 5\n",
    "1 6 2\n",
    "6 4 1\n",
    "6 5 3\n",
    "4 5 3\n",
    "6 7 4\n",
    "</pre>\n",
    "</section>"
   ]
  },
  {
   "cell_type": "markdown",
   "metadata": {},
   "source": [
    "<section id=\"sampleoutput1\">\n",
    "\t\t\t\t\t\t<div class=\"headline\">\n",
    "\t\t\t\t\t\t<h2>예제 출력 1\n",
    "\t\t\t\t\t\t\t<button type=\"button\" class=\"btn btn-link copy-button\" style=\"padding: 0px;\" data-clipboard-target=\"#sample-output-1\">복사</button>\n",
    "\t\t\t\t\t\t</h2>\n",
    "\t\t\t\t\t\t</div>\n",
    "\t\t\t\t\t\t<pre class=\"sampledata\" id=\"sample-output-1\">8</pre>\n",
    "</section>"
   ]
  },
  {
   "cell_type": "markdown",
   "metadata": {},
   "source": [
    "# 은선"
   ]
  },
  {
   "cell_type": "code",
   "execution_count": null,
   "metadata": {},
   "outputs": [],
   "source": [
    "# https://www.acmicpc.net/problem/1647\n",
    "# 도시 분할 계획\n",
    "\n",
    "import sys\n",
    "def solution():\n",
    "    input = sys.stdin.readline\n",
    "    INF = 1001\n",
    "    n, m = map(int, input().split())\n",
    "    \n",
    "    def find_parent(parent, x):\n",
    "        if parent[x] != x:\n",
    "            parent[x] = find_parent(parent, parent[x])\n",
    "        return parent[x]\n",
    "\n",
    "    def union_parent(parent, a, b):\n",
    "        a = find_parent(parent, a)\n",
    "        b = find_parent(parent, b)\n",
    "        if a < b:\n",
    "            parent[b] = a\n",
    "        else:\n",
    "            parent[a] = b\n",
    "    \n",
    "    parent = [i for i in range(n + 1)]\n",
    "    edges = []\n",
    "    for _ in range(m):\n",
    "        a, b, cost = map(int, input().split())\n",
    "        edges.append((cost, a, b))\n",
    "\n",
    "    edges.sort()\n",
    "\n",
    "    total_cost = 0\n",
    "    final_cost = 0\n",
    "    for edge in edges:\n",
    "        cost, a, b = edge\n",
    "        if find_parent(parent, a) != find_parent(parent, b):\n",
    "            union_parent(parent, a, b)\n",
    "            total_cost += cost\n",
    "            final_cost = cost\n",
    "    return total_cost - final_cost\n",
    "            \n",
    "        \n",
    "if __name__ == \"__main__\":\n",
    "    print(solution())"
   ]
  }
 ],
 "metadata": {
  "kernelspec": {
   "display_name": "Python 3",
   "language": "python",
   "name": "python3"
  },
  "language_info": {
   "codemirror_mode": {
    "name": "ipython",
    "version": 3
   },
   "file_extension": ".py",
   "mimetype": "text/x-python",
   "name": "python",
   "nbconvert_exporter": "python",
   "pygments_lexer": "ipython3",
   "version": "3.7.4"
  },
  "varInspector": {
   "cols": {
    "lenName": 16,
    "lenType": 16,
    "lenVar": 40
   },
   "kernels_config": {
    "python": {
     "delete_cmd_postfix": "",
     "delete_cmd_prefix": "del ",
     "library": "var_list.py",
     "varRefreshCmd": "print(var_dic_list())"
    },
    "r": {
     "delete_cmd_postfix": ") ",
     "delete_cmd_prefix": "rm(",
     "library": "var_list.r",
     "varRefreshCmd": "cat(var_dic_list()) "
    }
   },
   "types_to_exclude": [
    "module",
    "function",
    "builtin_function_or_method",
    "instance",
    "_Feature"
   ],
   "window_display": false
  }
 },
 "nbformat": 4,
 "nbformat_minor": 4
}

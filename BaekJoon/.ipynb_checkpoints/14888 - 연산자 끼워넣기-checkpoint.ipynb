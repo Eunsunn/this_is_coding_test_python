{
 "cells": [
  {
   "cell_type": "markdown",
   "metadata": {
    "ExecuteTime": {
     "end_time": "2021-03-07T02:15:31.893213Z",
     "start_time": "2021-03-07T02:15:31.841133Z"
    }
   },
   "source": [
    "# 연산자 끼워넣기\n",
    "\n",
    "# 문제\n",
    "N개의 수로 이루어진 수열 A1, A2, ..., AN이 주어진다. 또, 수와 수 사이에 끼워넣을 수 있는 N-1개의 연산자가 주어진다. 연산자는 덧셈(+), 뺄셈(-), 곱셈(×), 나눗셈(÷)으로만 이루어져 있다.\n",
    "\n",
    "우리는 수와 수 사이에 연산자를 하나씩 넣어서, 수식을 하나 만들 수 있다. 이때, 주어진 수의 순서를 바꾸면 안 된다.\n",
    "\n",
    "예를 들어, 6개의 수로 이루어진 수열이 1, 2, 3, 4, 5, 6이고, 주어진 연산자가 덧셈(+) 2개, 뺄셈(-) 1개, 곱셈(×) 1개, 나눗셈(÷) 1개인 경우에는 총 60가지의 식을 만들 수 있다. 예를 들어, 아래와 같은 식을 만들 수 있다.\n",
    "\n",
    "1+2+3-4×5÷6\n",
    "1÷2+3+4-5×6\n",
    "1+2÷3×4-5+6\n",
    "1÷2×3-4+5+6\n",
    "식의 계산은 연산자 우선 순위를 무시하고 앞에서부터 진행해야 한다. 또, 나눗셈은 정수 나눗셈으로 몫만 취한다. 음수를 양수로 나눌 때는 C++14의 기준을 따른다. 즉, 양수로 바꾼 뒤 몫을 취하고, 그 몫을 음수로 바꾼 것과 같다. 이에 따라서, 위의 식 4개의 결과를 계산해보면 아래와 같다.\n",
    "\n",
    "1+2+3-4×5÷6 = 1\n",
    "1÷2+3+4-5×6 = 12\n",
    "1+2÷3×4-5+6 = 5\n",
    "1÷2×3-4+5+6 = 7\n",
    "N개의 수와 N-1개의 연산자가 주어졌을 때, 만들 수 있는 식의 결과가 최대인 것과 최소인 것을 구하는 프로그램을 작성하시오.\n",
    "\n",
    "# 입력\n",
    "첫째 줄에 수의 개수 N(2 ≤ N ≤ 11)가 주어진다. 둘째 줄에는 A1, A2, ..., AN이 주어진다. (1 ≤ Ai ≤ 100) 셋째 줄에는 합이 N-1인 4개의 정수가 주어지는데, 차례대로 덧셈(+)의 개수, 뺄셈(-)의 개수, 곱셈(×)의 개수, 나눗셈(÷)의 개수이다. \n",
    "\n",
    "# 출력\n",
    "첫째 줄에 만들 수 있는 식의 결과의 최댓값을, 둘째 줄에는 최솟값을 출력한다. 연산자를 어떻게 끼워넣어도 항상 -10억보다 크거나 같고, 10억보다 작거나 같은 결과가 나오는 입력만 주어진다. 또한, 앞에서부터 계산했을 때, 중간에 계산되는 식의 결과도 항상 -10억보다 크거나 같고, 10억보다 작거나 같다.\n",
    "\n",
    "# 예제 입력 1\n",
    "2\n",
    "5 6\n",
    "0 0 1 0\n",
    "\n",
    "# 예제 출력 1\n",
    "30\n",
    "30"
   ]
  },
  {
   "cell_type": "markdown",
   "metadata": {},
   "source": [
    "# 은선"
   ]
  },
  {
   "cell_type": "code",
   "execution_count": null,
   "metadata": {},
   "outputs": [],
   "source": [
    "# https://www.acmicpc.net/problem/14888\n",
    "\n",
    "def solution():\n",
    "    n = int(input())\n",
    "    num = list(map(int, input().split()))\n",
    "    operator = list(map(int, input().split())) # +, -, x, /\n",
    "    max_min = [-10**9, 10**9]\n",
    "\n",
    "    def operate(left, right, op):\n",
    "        if op == 0:\n",
    "            return left + right\n",
    "        elif op == 1:\n",
    "            return left - right\n",
    "        elif op == 2:\n",
    "            return left * right\n",
    "        elif op == 3:\n",
    "            if left < 0:\n",
    "                return -((-left) // right)\n",
    "            return left // right\n",
    "\n",
    "    def DFS(prev, idx):\n",
    "        if idx == n:\n",
    "            max_min[0] = max(max_min[0], prev)\n",
    "            max_min[1] = min(max_min[1], prev)            \n",
    "        \n",
    "        for op in range(len(operator)):\n",
    "            if operator[op] > 0:\n",
    "                operator[op] -= 1\n",
    "                prev_tmp = operate(prev, num[idx], op)\n",
    "                DFS(prev_tmp, idx+1)\n",
    "                operator[op] += 1\n",
    "    \n",
    "    DFS(num[0], 1)\n",
    "    return max_min\n",
    "\n",
    "maximum, minimum = solution()\n",
    "print(maximum)\n",
    "print(minimum)"
   ]
  }
 ],
 "metadata": {
  "kernelspec": {
   "display_name": "Python 3",
   "language": "python",
   "name": "python3"
  },
  "language_info": {
   "codemirror_mode": {
    "name": "ipython",
    "version": 3
   },
   "file_extension": ".py",
   "mimetype": "text/x-python",
   "name": "python",
   "nbconvert_exporter": "python",
   "pygments_lexer": "ipython3",
   "version": "3.7.4"
  },
  "varInspector": {
   "cols": {
    "lenName": 16,
    "lenType": 16,
    "lenVar": 40
   },
   "kernels_config": {
    "python": {
     "delete_cmd_postfix": "",
     "delete_cmd_prefix": "del ",
     "library": "var_list.py",
     "varRefreshCmd": "print(var_dic_list())"
    },
    "r": {
     "delete_cmd_postfix": ") ",
     "delete_cmd_prefix": "rm(",
     "library": "var_list.r",
     "varRefreshCmd": "cat(var_dic_list()) "
    }
   },
   "types_to_exclude": [
    "module",
    "function",
    "builtin_function_or_method",
    "instance",
    "_Feature"
   ],
   "window_display": false
  }
 },
 "nbformat": 4,
 "nbformat_minor": 4
}

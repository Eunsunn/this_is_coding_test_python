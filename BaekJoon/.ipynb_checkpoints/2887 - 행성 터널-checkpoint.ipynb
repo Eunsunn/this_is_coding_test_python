{
 "cells": [
  {
   "cell_type": "markdown",
   "metadata": {},
   "source": [
    "https://www.acmicpc.net/problem/2887"
   ]
  },
  {
   "cell_type": "markdown",
   "metadata": {},
   "source": [
    "<section id=\"description\" class=\"problem-section\">\n",
    "\t\t\t\t<div class=\"headline\">\n",
    "\t\t\t\t<h2>문제</h2>\n",
    "\t\t\t\t</div>\n",
    "\t\t\t\t<div id=\"problem_description\" class=\"problem-text\">\n",
    "\t\t\t\t<p>\n",
    "\t때는 2040년, 이민혁은 우주에 자신만의 왕국을 만들었다. 왕국은 N개의 행성으로 이루어져 있다. 민혁이는 이 행성을 효율적으로 지배하기 위해서 행성을 연결하는 터널을 만들려고 한다.</p>\n",
    "\n",
    "<p>\n",
    "\t행성은 3차원 좌표위의 한 점으로 생각하면 된다. 두 행성 A(x<sub>A</sub>, y<sub>A</sub>, z<sub>A</sub>)와 B(x<sub>B</sub>, y<sub>B</sub>, z<sub>B</sub>)를 터널로 연결할 때 드는 비용은 min(|x<sub>A</sub>-x<sub>B</sub>|, |y<sub>A</sub>-y<sub>B</sub>|, |z<sub>A</sub>-z<sub>B</sub>|)이다.</p>\n",
    "\n",
    "<p>\n",
    "\t민혁이는 터널을 총 N-1개 건설해서 모든 행성이 서로 연결되게 하려고 한다. 이때, 모든 행성을 터널로 연결하는데 필요한 최소 비용을 구하는 프로그램을 작성하시오.</p>\n",
    "\n",
    "</div>\n",
    "</section>\n",
    "<section id=\"input\" class=\"problem-section\">\n",
    "\t\t\t\t\t<div class=\"headline\">\n",
    "\t\t\t\t\t<h2>입력</h2>\n",
    "\t\t\t\t\t</div>\n",
    "\t\t\t\t\t<div id=\"problem_input\" class=\"problem-text\">\n",
    "\t\t\t\t\t<p>\n",
    "\t첫째 줄에 행성의 개수 N이 주어진다. (1 ≤ N ≤ 100,000) 다음 N개 줄에는 각 행성의 x, y, z좌표가 주어진다. 좌표는 -10<sup>9</sup>보다 크거나 같고, 10<sup>9</sup>보다 작거나 같은 정수이다. 한 위치에 행성이 두 개 이상 있는 경우는 없다.&nbsp;</p>\n",
    "\n",
    "</div>\n",
    "</section>\n",
    "<section id=\"output\" class=\"problem-section\">\n",
    "\t\t\t\t\t<div class=\"headline\">\n",
    "\t\t\t\t\t<h2>출력</h2>\n",
    "\t\t\t\t\t</div>\n",
    "\t\t\t\t\t<div id=\"problem_output\" class=\"problem-text\">\n",
    "\t\t\t\t\t<p>\n",
    "\t첫째 줄에 모든 행성을 터널로 연결하는데 필요한 최소 비용을 출력한다.</p>\n",
    "\n",
    "</div>\n",
    "</section>\n",
    "<section id=\"sampleinput1\">\n",
    "\t\t\t\t\t\t<div class=\"headline\">\n",
    "\t\t\t\t\t\t<h2>예제 입력 1\n",
    "\t\t\t\t\t\t\t<button type=\"button\" class=\"btn btn-link copy-button\" style=\"padding: 0px;\" data-clipboard-target=\"#sample-input-1\">복사</button>\n",
    "\t\t\t\t\t\t</h2>\n",
    "\t\t\t\t\t\t</div>\n",
    "\t\t\t\t\t\t<pre class=\"sampledata\" id=\"sample-input-1\">5\n",
    "11 -15 -15\n",
    "14 -5 -15\n",
    "-1 -1 -5\n",
    "10 -4 -1\n",
    "19 -4 19\n",
    "</pre>\n",
    "</section>\n",
    "<section id=\"sampleoutput1\">\n",
    "\t\t\t\t\t\t<div class=\"headline\">\n",
    "\t\t\t\t\t\t<h2>예제 출력 1\n",
    "\t\t\t\t\t\t\t<button type=\"button\" class=\"btn btn-link copy-button\" style=\"padding: 0px;\" data-clipboard-target=\"#sample-output-1\">복사</button>\n",
    "\t\t\t\t\t\t</h2>\n",
    "\t\t\t\t\t\t</div>\n",
    "\t\t\t\t\t\t<pre class=\"sampledata\" id=\"sample-output-1\">4\n",
    "</pre>\n",
    "</section>"
   ]
  },
  {
   "cell_type": "markdown",
   "metadata": {},
   "source": [
    "# 은선"
   ]
  },
  {
   "cell_type": "code",
   "execution_count": null,
   "metadata": {},
   "outputs": [],
   "source": [
    "# https://www.acmicpc.net/problem/2887\n",
    "import sys\n",
    "\n",
    "def solution():\n",
    "    input = sys.stdin.readline\n",
    "    n = int(input())\n",
    "    xs, ys, zs = [], [], []\n",
    "    for i in range(n):\n",
    "        x, y, z = map(int, input().split())\n",
    "        xs.append((x, i))\n",
    "        ys.append((y, i))\n",
    "        zs.append((z, i))\n",
    "    \n",
    "    parent = [i for i in range(n)]\n",
    "    def get_parent(x):\n",
    "        if parent[x] != x:\n",
    "            parent[x] = get_parent(parent[x])\n",
    "        return parent[x]\n",
    "    def union(x, y):\n",
    "        x = get_parent(x)\n",
    "        y = get_parent(y)\n",
    "        if x < y:\n",
    "            parent[y] = x\n",
    "        else:\n",
    "            parent[x] = y\n",
    "    \n",
    "    # 터널 거리 계산\n",
    "    xs.sort()\n",
    "    ys.sort()\n",
    "    zs.sort()\n",
    "    graph = []\n",
    "    for _ in range(n - 1):\n",
    "        for ls in [xs, ys, zs]:\n",
    "            dist = ls[-1][0] - ls[-2][0]\n",
    "            idx1, idx2 = ls[-1][1], ls[-2][1]\n",
    "            graph.append((dist, idx1, idx2))\n",
    "            ls.pop()\n",
    "\n",
    "    # 최소 거리\n",
    "    graph.sort()\n",
    "    total_cost = 0\n",
    "    for dist, a, b in graph:\n",
    "        if get_parent(a) != get_parent(b):\n",
    "            union(a, b)\n",
    "            total_cost += dist\n",
    "\n",
    "    return total_cost\n",
    "    \n",
    "print(solution())"
   ]
  }
 ],
 "metadata": {
  "kernelspec": {
   "display_name": "Python 3",
   "language": "python",
   "name": "python3"
  },
  "language_info": {
   "codemirror_mode": {
    "name": "ipython",
    "version": 3
   },
   "file_extension": ".py",
   "mimetype": "text/x-python",
   "name": "python",
   "nbconvert_exporter": "python",
   "pygments_lexer": "ipython3",
   "version": "3.7.4"
  },
  "varInspector": {
   "cols": {
    "lenName": 16,
    "lenType": 16,
    "lenVar": 40
   },
   "kernels_config": {
    "python": {
     "delete_cmd_postfix": "",
     "delete_cmd_prefix": "del ",
     "library": "var_list.py",
     "varRefreshCmd": "print(var_dic_list())"
    },
    "r": {
     "delete_cmd_postfix": ") ",
     "delete_cmd_prefix": "rm(",
     "library": "var_list.r",
     "varRefreshCmd": "cat(var_dic_list()) "
    }
   },
   "types_to_exclude": [
    "module",
    "function",
    "builtin_function_or_method",
    "instance",
    "_Feature"
   ],
   "window_display": false
  }
 },
 "nbformat": 4,
 "nbformat_minor": 4
}

{
 "cells": [
  {
   "cell_type": "markdown",
   "metadata": {},
   "source": [
    "### 문제\n",
    "도현이의 집 N개가 수직선 위에 있다. 각각의 집의 좌표는 x1, ..., xN이고, 집 여러개가 같은 좌표를 가지는 일은 없다.    \n",
    "\n",
    "\n",
    "도현이는 언제 어디서나 와이파이를 즐기기 위해서 집에 공유기 C개를 설치하려고 한다. 최대한 많은 곳에서 와이파이를 사용하려고 하기 때문에, 한 집에는 공유기를 하나만 설치할 수 있고, 가장 인접한 두 공유기 사이의 거리를 가능한 크게 하여 설치하려고 한다.    \n",
    "\n",
    "\n",
    "C개의 공유기를 N개의 집에 적당히 설치해서, 가장 인접한 두 공유기 사이의 거리를 최대로 하는 프로그램을 작성하시오.\n",
    "\n",
    "### 입력\n",
    "첫째 줄에 집의 개수 N (2 ≤ N ≤ 200,000)과 공유기의 개수 C (2 ≤ C ≤ N)이 하나 이상의 빈 칸을 사이에 두고 주어진다. 둘째 줄부터 N개의 줄에는 집의 좌표를 나타내는 xi (0 ≤ xi ≤ 1,000,000,000)가 한 줄에 하나씩 주어진다.\n",
    "\n",
    "### 출력\n",
    "첫째 줄에 가장 인접한 두 공유기 사이의 최대 거리를 출력한다.\n",
    "\n",
    "### 예제 입력 1 \n",
    "5 3  \n",
    "1  \n",
    "2  \n",
    "8  \n",
    "4  \n",
    "9  \n",
    "### 예제 출력 1 \n",
    "3  \n",
    "\n",
    "#### 힌트\n",
    "공유기를 1, 4, 8 또는 1, 4, 9에 설치하면 가장 인접한 두 공유기 사이의 거리는 3이고, 이 거리보다 크게 공유기를 3개 설치할 수 없다."
   ]
  },
  {
   "cell_type": "markdown",
   "metadata": {},
   "source": [
    "# 은선"
   ]
  },
  {
   "cell_type": "code",
   "execution_count": null,
   "metadata": {},
   "outputs": [],
   "source": [
    "# https://www.acmicpc.net/problem/2110\n",
    "\n",
    "def solution(n, c, home):\n",
    "    home.sort()\n",
    "\n",
    "    # 설치 최소, 최대 거리\n",
    "    min_dist, max_dist = 1, home[n-1] - home[0]\n",
    "    ret = 0\n",
    "\n",
    "    while min_dist <= max_dist:\n",
    "        mid_dist = (min_dist + max_dist) // 2\n",
    "        prev = home[0]\n",
    "        # 설치해보기\n",
    "        cnt = 1\n",
    "        for i in range(1, n):\n",
    "            if home[i] >= prev + mid_dist:\n",
    "                prev = home[i]\n",
    "                cnt += 1\n",
    "            if cnt == c: break\n",
    "        # 설치가 되면 거리 증가시켜서 해보기\n",
    "        if cnt == c:\n",
    "            min_dist = mid_dist + 1\n",
    "            ret = mid_dist\n",
    "        # 안되면 거리 감소시켜서 해보기\n",
    "        else:\n",
    "            max_dist = mid_dist - 1\n",
    "\n",
    "    return ret\n",
    "\n",
    "\n",
    "if __name__ == \"__main__\":\n",
    "    n, c = list(map(int, input().split()))\n",
    "    home = [int(input()) for _ in range(n)]\n",
    "\n",
    "    print(solution(n, c, home))"
   ]
  }
 ],
 "metadata": {
  "kernelspec": {
   "display_name": "Python 3",
   "language": "python",
   "name": "python3"
  },
  "language_info": {
   "codemirror_mode": {
    "name": "ipython",
    "version": 3
   },
   "file_extension": ".py",
   "mimetype": "text/x-python",
   "name": "python",
   "nbconvert_exporter": "python",
   "pygments_lexer": "ipython3",
   "version": "3.7.4"
  },
  "varInspector": {
   "cols": {
    "lenName": 16,
    "lenType": 16,
    "lenVar": 40
   },
   "kernels_config": {
    "python": {
     "delete_cmd_postfix": "",
     "delete_cmd_prefix": "del ",
     "library": "var_list.py",
     "varRefreshCmd": "print(var_dic_list())"
    },
    "r": {
     "delete_cmd_postfix": ") ",
     "delete_cmd_prefix": "rm(",
     "library": "var_list.r",
     "varRefreshCmd": "cat(var_dic_list()) "
    }
   },
   "types_to_exclude": [
    "module",
    "function",
    "builtin_function_or_method",
    "instance",
    "_Feature"
   ],
   "window_display": false
  }
 },
 "nbformat": 4,
 "nbformat_minor": 4
}

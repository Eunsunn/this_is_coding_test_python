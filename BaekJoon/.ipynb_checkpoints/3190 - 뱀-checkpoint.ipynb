{
 "cells": [
  {
   "cell_type": "markdown",
   "metadata": {},
   "source": [
    "<div class=\"col-md-12\">\n",
    "\t\t\t\t<section id=\"description\" class=\"problem-section\">\n",
    "\t\t\t\t<div class=\"headline\">\n",
    "\t\t\t\t<h2>문제</h2>\n",
    "\t\t\t\t</div>\n",
    "\t\t\t\t<div id=\"problem_description\" class=\"problem-text\">\n",
    "\t\t\t\t<p>&nbsp;'Dummy' 라는 도스게임이 있다. 이 게임에는 뱀이 나와서 기어다니는데, 사과를 먹으면 뱀 길이가 늘어난다. 뱀이 이리저리 기어다니다가 벽 또는 자기자신의 몸과 부딪히면 게임이 끝난다.</p>\n",
    "\n",
    "<p>게임은 NxN 정사각&nbsp;보드위에서 진행되고, 몇몇 칸에는&nbsp;사과가 놓여져 있다. 보드의 상하좌우 끝에 벽이 있다. 게임이 시작할때 뱀은 맨위 맨좌측에 위치하고 뱀의 길이는 1 이다. 뱀은 처음에 오른쪽을 향한다.</p>\n",
    "\n",
    "<p>뱀은 매 초마다 이동을 하는데 다음과 같은 규칙을 따른다.</p>\n",
    "\n",
    "<ul>\n",
    "\t<li>먼저 뱀은 몸길이를 늘려&nbsp;머리를&nbsp;다음칸에 위치시킨다.</li>\n",
    "\t<li>만약 이동한 칸에 사과가 있다면, 그 칸에 있던 사과가 없어지고 꼬리는 움직이지 않는다.</li>\n",
    "\t<li>만약 이동한 칸에 사과가 없다면, 몸길이를 줄여서 꼬리가 위치한 칸을 비워준다. 즉, 몸길이는 변하지 않는다.</li>\n",
    "</ul>\n",
    "\n",
    "<p>사과의 위치와 뱀의 이동경로가 주어질 때 이 게임이 몇 초에 끝나는지 계산하라.</p>\n"
   ]
  },
  {
   "cell_type": "markdown",
   "metadata": {},
   "source": [
    "<section id=\"input\" class=\"problem-section\">\n",
    "\t\t\t\t\t<div class=\"headline\">\n",
    "\t\t\t\t\t<h2>입력</h2>\n",
    "\t\t\t\t\t</div>\n",
    "\t\t\t\t\t<div id=\"problem_input\" class=\"problem-text\">\n",
    "\t\t\t\t\t<p>첫째 줄에 보드의 크기 N이 주어진다. (2 ≤ N ≤ 100) 다음 줄에 사과의 개수&nbsp;K가 주어진다. (0 ≤ K ≤ 100)</p>\n",
    "\n",
    "<p>다음 K개의 줄에는 사과의 위치가 주어지는데, 첫 번째 정수는&nbsp;행, 두 번째 정수는&nbsp;열 위치를 의미한다.&nbsp;사과의 위치는 모두 다르며, 맨 위 맨 좌측 (1행 1열) 에는 사과가 없다.</p>\n",
    "\n",
    "<p>다음 줄에는 뱀의 방향 변환 횟수 L 이 주어진다. (1 ≤ L ≤ 100)</p>\n",
    "\n",
    "<p>다음 L개의 줄에는 뱀의 방향 변환 정보가 주어지는데, &nbsp;정수 X와 문자 C로 이루어져 있으며. 게임 시작 시간으로부터 X초가 끝난 뒤에 왼쪽(C가 'L') 또는 오른쪽(C가 'D')로 90도 방향을 회전시킨다는 뜻이다. X는 10,000 이하의 양의 정수이며, 방향 전환 정보는 X가 증가하는 순으로 주어진다.</p>"
   ]
  },
  {
   "cell_type": "markdown",
   "metadata": {},
   "source": [
    "https://www.acmicpc.net/problem/3190"
   ]
  },
  {
   "cell_type": "markdown",
   "metadata": {},
   "source": [
    "# 은선"
   ]
  },
  {
   "cell_type": "code",
   "execution_count": null,
   "metadata": {
    "ExecuteTime": {
     "start_time": "2021-02-13T16:13:28.566Z"
    }
   },
   "outputs": [],
   "source": [
    "# https://www.acmicpc.net/problem/3190\n",
    "\n",
    "from collections import deque\n",
    "\n",
    "def solution():\n",
    "    ##### 1. Init #####\n",
    "    n = int(input()) # map size (정사각형)\n",
    "    board = [[0]*n for _ in range(n)]\n",
    "    snake = [[-1]*n for _ in range(n)]\n",
    "\n",
    "    k = int(input()) # 사과 개수\n",
    "    for _ in range(k):\n",
    "        r, c = map(int, input().split()) # 사과 위치는 서로 다름\n",
    "        board[r-1][c-1] = 1\n",
    "\n",
    "    l = int(input()) # 방향 전환 횟수\n",
    "    # rotates = deque()\n",
    "    # for _ in range(l):\n",
    "    #     time, direc = input().split()\n",
    "    #     rotates.append((int(time), direc))\n",
    "    rotates = []\n",
    "    for _ in range(l):\n",
    "        time, direc = input().split()\n",
    "        rotates.append((int(time), direc))\n",
    "\n",
    "\n",
    "    ##### 2. Simulation #####\n",
    "    dy = [0, -1, 0, 1] # 서, 북, 동, 남\n",
    "    dx = [-1, 0, 1, 0] # 서, 북, 동, 남\n",
    "    \n",
    "    def rotate_right(dir):\n",
    "        return (dir + 1) % len(dy)\n",
    "    def rotate_left(dir):\n",
    "        return (dir + len(dy) - 1) % len(dy)\n",
    "\n",
    "    next_rotate = 0\n",
    "    dir = 2 # 시작=동\n",
    "    h_row, h_col = 0, 0 # head 포인터\n",
    "    t_row, t_col = 0, 0 # tail 포인터\n",
    "    snake[h_row][h_col] = dir\n",
    "    time = 0\n",
    "    \n",
    "    while True:\n",
    "        time += 1\n",
    "        # a. 현재 방향으로 머리 움직이기\n",
    "        hr = h_row + dy[dir]\n",
    "        hc = h_col + dx[dir]\n",
    "        # b. collision check\n",
    "        if hr < 0 or hr >= n or hc < 0 or hc >= n:\n",
    "            break\n",
    "        if snake[hr][hc] > -1:\n",
    "            break\n",
    "        # c. 사과 check\n",
    "        apple = False\n",
    "        if board[hr][hc] > 0:\n",
    "            apple = True\n",
    "            board[hr][hc] -= 1\n",
    "        # d. 꼬리 움직이기\n",
    "        if not apple:\n",
    "            tail_dir = snake[t_row][t_col]\n",
    "            snake[t_row][t_col] = -1\n",
    "            t_row += dy[tail_dir]\n",
    "            t_col += dx[tail_dir]\n",
    "        # e. 회전 queue check\n",
    "        # if rotates:\n",
    "        #     t, direction = rotates.popleft()\n",
    "        #     if t == time:\n",
    "        #         if direction == \"D\":\n",
    "        #             dir = rotate_right(dir)\n",
    "        #         elif direction == \"L\":\n",
    "        #             dir = rotate_left(dir)\n",
    "        #     else:\n",
    "        #         rotates.appendleft((t, direction))\n",
    "        if next_rotate < l: # list indexing하니까 24ms 정도 빨라짐\n",
    "            t, direction = rotates[next_rotate]\n",
    "            if t == time:\n",
    "                next_rotate += 1\n",
    "                if direction == \"D\":\n",
    "                    dir = rotate_right(dir)\n",
    "                elif direction == \"L\":\n",
    "                    dir = rotate_left(dir)\n",
    "\n",
    "        # f. 머리 움직인거 반영하기\n",
    "        snake[hr][hc] = dir\n",
    "        h_row, h_col = hr, hc\n",
    "    \n",
    "    return time\n",
    "\n",
    "\n",
    "print(solution())"
   ]
  }
 ],
 "metadata": {
  "kernelspec": {
   "display_name": "Python 3",
   "language": "python",
   "name": "python3"
  },
  "language_info": {
   "codemirror_mode": {
    "name": "ipython",
    "version": 3
   },
   "file_extension": ".py",
   "mimetype": "text/x-python",
   "name": "python",
   "nbconvert_exporter": "python",
   "pygments_lexer": "ipython3",
   "version": "3.7.4"
  },
  "varInspector": {
   "cols": {
    "lenName": 16,
    "lenType": 16,
    "lenVar": 40
   },
   "kernels_config": {
    "python": {
     "delete_cmd_postfix": "",
     "delete_cmd_prefix": "del ",
     "library": "var_list.py",
     "varRefreshCmd": "print(var_dic_list())"
    },
    "r": {
     "delete_cmd_postfix": ") ",
     "delete_cmd_prefix": "rm(",
     "library": "var_list.r",
     "varRefreshCmd": "cat(var_dic_list()) "
    }
   },
   "types_to_exclude": [
    "module",
    "function",
    "builtin_function_or_method",
    "instance",
    "_Feature"
   ],
   "window_display": false
  }
 },
 "nbformat": 4,
 "nbformat_minor": 4
}

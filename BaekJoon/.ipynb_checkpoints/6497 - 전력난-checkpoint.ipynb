{
 "cells": [
  {
   "cell_type": "markdown",
   "metadata": {},
   "source": [
    "https://www.acmicpc.net/problem/6497"
   ]
  },
  {
   "cell_type": "markdown",
   "metadata": {},
   "source": [
    "<section id=\"description\" class=\"problem-section\">\n",
    "\t\t\t\t<div class=\"headline\">\n",
    "\t\t\t\t<h2>문제</h2>\n",
    "\t\t\t\t</div>\n",
    "\t\t\t\t<div id=\"problem_description\" class=\"problem-text\">\n",
    "\t\t\t\t<p>성진이는 한 도시의 시장인데 거지라서 전력난에 끙끙댄다. 그래서 모든 길마다 원래 켜져 있던 가로등 중 일부를 소등하기로 하였다. 길의 가로등을 켜 두면 하루에 길의 미터 수만큼 돈이 들어가는데, 일부를 소등하여 그만큼의 돈을 절약할 수 있다.</p>\n",
    "\n",
    "<p>그러나 만약 어떤 두 집을 왕래할 때, 불이 켜져 있지 않은 길을 반드시 지나야 한다면 위험하다. 그래서 도시에 있는 모든 두 집 쌍에 대해, 불이 켜진 길만으로 서로를 왕래할 수 있어야 한다.</p>\n",
    "\n",
    "<p>위 조건을 지키면서 절약할 수 있는 최대 액수를 구하시오.</p>\n",
    "\n",
    "</div>\n",
    "</section>\n",
    "<section id=\"input\" class=\"problem-section\">\n",
    "\t\t\t\t\t<div class=\"headline\">\n",
    "\t\t\t\t\t<h2>입력</h2>\n",
    "\t\t\t\t\t</div>\n",
    "\t\t\t\t\t<div id=\"problem_input\" class=\"problem-text\">\n",
    "\t\t\t\t\t<p>입력은 여러 개의 테스트 케이스로 구분되어 있다.</p>\n",
    "\n",
    "<p>각 테스트 케이스의 첫째 줄에는 집의 수 m과 길의 수 n이 주어진다. (<em>1 ≤ m ≤ 200000</em>, <em>m-1 ≤ n ≤ 200000</em>)</p>\n",
    "\n",
    "<p>이어서 n개의 줄에 각 길에 대한 정보 x, y, z가 주어지는데, 이는 x번 집과 y번 집 사이에 양방향 도로가 있으며 그 거리가 z미터라는 뜻이다. (<em>0 ≤ x, y &lt; m</em>, <em>x ≠ y</em>)</p>\n",
    "\n",
    "<p>도시는 항상 연결 그래프의 형태이고(즉, 어떤 두 집을 골라도 서로 왕래할 수 있는 경로가 있다), 도시상의 모든 길의 거리 합은 2<sup>31</sup>미터보다 작다.</p>\n",
    "\n",
    "<p>입력의 끝에서는 첫 줄에 0이 2개 주어진다.</p>\n",
    "\n",
    "</div>\n",
    "</section>\n",
    "<section id=\"output\" class=\"problem-section\">\n",
    "\t\t\t\t\t<div class=\"headline\">\n",
    "\t\t\t\t\t<h2>출력</h2>\n",
    "\t\t\t\t\t</div>\n",
    "\t\t\t\t\t<div id=\"problem_output\" class=\"problem-text\">\n",
    "\t\t\t\t\t<p>각 테스트 케이스마다 한 줄에 걸쳐 절약할 수 있는 최대 비용을 출력한다.</p>\n",
    "\n",
    "</div>\n",
    "</section>\n",
    "<section id=\"sampleinput1\">\n",
    "\t\t\t\t\t\t<div class=\"headline\">\n",
    "\t\t\t\t\t\t<h2>예제 입력 1\n",
    "\t\t\t\t\t\t\t<button type=\"button\" class=\"btn btn-link copy-button\" style=\"padding: 0px;\" data-clipboard-target=\"#sample-input-1\">복사</button>\n",
    "\t\t\t\t\t\t</h2>\n",
    "\t\t\t\t\t\t</div>\n",
    "\t\t\t\t\t\t<pre class=\"sampledata\" id=\"sample-input-1\">7 11\n",
    "0 1 7\n",
    "0 3 5\n",
    "1 2 8\n",
    "1 3 9\n",
    "1 4 7\n",
    "2 4 5\n",
    "3 4 15\n",
    "3 5 6\n",
    "4 5 8\n",
    "4 6 9\n",
    "5 6 11\n",
    "0 0\n",
    "</pre>\n",
    "</section>\n",
    "<section id=\"sampleoutput1\">\n",
    "\t\t\t\t\t\t<div class=\"headline\">\n",
    "\t\t\t\t\t\t<h2>예제 출력 1\n",
    "\t\t\t\t\t\t\t<button type=\"button\" class=\"btn btn-link copy-button\" style=\"padding: 0px;\" data-clipboard-target=\"#sample-output-1\">복사</button>\n",
    "\t\t\t\t\t\t</h2>\n",
    "\t\t\t\t\t\t</div>\n",
    "\t\t\t\t\t\t<pre class=\"sampledata\" id=\"sample-output-1\">51\n",
    "</pre>\n",
    "</section>"
   ]
  },
  {
   "cell_type": "markdown",
   "metadata": {},
   "source": [
    "# 은선"
   ]
  },
  {
   "cell_type": "code",
   "execution_count": null,
   "metadata": {},
   "outputs": [],
   "source": [
    "# https://www.acmicpc.net/problem/6497\n",
    "\n",
    "import sys\n",
    "\n",
    "def solution():\n",
    "    input = sys.stdin.readline\n",
    "    def get_input():\n",
    "        m, n = map(int, input().split())\n",
    "        total_cost = 0\n",
    "        graph = []\n",
    "        for _ in range(n):\n",
    "            x, y, z = map(int, input().split()) # 집, 집, 거리\n",
    "            total_cost += z\n",
    "            graph.append((z, x, y))\n",
    "        return m, graph, total_cost\n",
    "    \n",
    "    def find_min_cost(m, graph):\n",
    "        # 부모 노드를 자기 자신으로 초기화\n",
    "        parent = [i for i in range(m)]\n",
    "        # 거리 내림차순 정렬\n",
    "        graph.sort()\n",
    "\n",
    "        def get_parent(x):\n",
    "            if parent[x] != x:\n",
    "                parent[x] = get_parent(parent[x]) \n",
    "            return parent[x]\n",
    "        def union(x, y):\n",
    "            x = get_parent(x)\n",
    "            y = get_parent(y)\n",
    "            # 낮은 번호를 부모노드로\n",
    "            if x < y:\n",
    "                parent[y] = x\n",
    "            else:\n",
    "                parent[x] = y\n",
    "\n",
    "        min_cost = 0\n",
    "        for (z, x, y) in graph:\n",
    "            if get_parent(x) != get_parent(y):\n",
    "                union(x, y)\n",
    "                min_cost += z\n",
    "        return min_cost\n",
    "\n",
    "    while True:\n",
    "        m, graph, total_cost = get_input()\n",
    "        if m == 0:\n",
    "            break\n",
    "        min_cost = find_min_cost(m, graph)\n",
    "        print(total_cost - min_cost)        \n",
    "\n",
    "\n",
    "if __name__ == \"__main__\":\n",
    "    solution()"
   ]
  }
 ],
 "metadata": {
  "kernelspec": {
   "display_name": "Python 3",
   "language": "python",
   "name": "python3"
  },
  "language_info": {
   "codemirror_mode": {
    "name": "ipython",
    "version": 3
   },
   "file_extension": ".py",
   "mimetype": "text/x-python",
   "name": "python",
   "nbconvert_exporter": "python",
   "pygments_lexer": "ipython3",
   "version": "3.7.4"
  },
  "varInspector": {
   "cols": {
    "lenName": 16,
    "lenType": 16,
    "lenVar": 40
   },
   "kernels_config": {
    "python": {
     "delete_cmd_postfix": "",
     "delete_cmd_prefix": "del ",
     "library": "var_list.py",
     "varRefreshCmd": "print(var_dic_list())"
    },
    "r": {
     "delete_cmd_postfix": ") ",
     "delete_cmd_prefix": "rm(",
     "library": "var_list.r",
     "varRefreshCmd": "cat(var_dic_list()) "
    }
   },
   "types_to_exclude": [
    "module",
    "function",
    "builtin_function_or_method",
    "instance",
    "_Feature"
   ],
   "window_display": false
  }
 },
 "nbformat": 4,
 "nbformat_minor": 4
}

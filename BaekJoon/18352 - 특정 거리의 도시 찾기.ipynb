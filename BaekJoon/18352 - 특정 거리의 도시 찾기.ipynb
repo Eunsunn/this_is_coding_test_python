{
 "cells": [
  {
   "cell_type": "markdown",
   "metadata": {},
   "source": [
    "# 특정 거리의 도시 찾기\n",
    "\n",
    "어떤 나라에는 1번부터 N번까지의 도시와 M개의 단방향 도로가 존재한다. 모든 도로의 거리는 1이다.\n",
    "이 때 특정한 도시 X로부터 출발하여 도달할 수 있는 모든 도시 중에서, 최단 거리가 정확히 K인 모든 도시들의 번호를 출력하는 프로그램을 작성하시오. 또한 출발 도시 X에서 출발 도시 X로 가는 최단 거리는 항상 0이라고 가정한다.\n",
    "\n",
    "\n",
    "예를 들어 N=4, K=2, X=1일 때 다음과 같이 그래프가 구성되어 있다고 가정하자.\n",
    "\n",
    "이 때 1번 도시에서 출발하여 도달할 수 있는 도시 중에서, 최단 거리가 2인 도시는 4번 도시 뿐이다.  2번과 3번 도시의 경우, 최단 거리가 1이기 때문에 출력하지 않는다.\n",
    "\n",
    "#### 입력\n",
    "첫째 줄에 도시의 개수 N, 도로의 개수 M, 거리 정보 K, 출발 도시의 번호 X가 주어진다. (2 ≤ N ≤ 300,000, 1 ≤ M ≤ 1,000,000, 1 ≤ K ≤ 300,000, 1 ≤ X ≤ N) 둘째 줄부터 M개의 줄에 걸쳐서 두 개의 자연수 A, B가 공백을 기준으로 구분되어 주어진다. 이는 A번 도시에서 B번 도시로 이동하는 단방향 도로가 존재한다는 의미다. (1 ≤ A, B ≤ N) 단, A와 B는 서로 다른 자연수이다.\n",
    "\n",
    "#### 출력\n",
    "X로부터 출발하여 도달할 수 있는 도시 중에서, 최단 거리가 K인 모든 도시의 번호를 한 줄에 하나씩 오름차순으로 출력한다.\n",
    "\n",
    "\n",
    "이 때 도달할 수 있는 도시 중에서, 최단 거리가 K인 도시가 하나도 존재하지 않으면 -1을 출력한다.\n",
    "\n",
    "#### 예제 입력 1 \n",
    "```\n",
    "4 4 2 1\n",
    "1 2\n",
    "1 3\n",
    "2 3\n",
    "2 4\n",
    "```\n",
    "#### 예제 출력 1 \n",
    "```\n",
    "4\n",
    "```\n",
    "#### 예제 입력 2 \n",
    "```\n",
    "4 3 2 1\n",
    "1 2\n",
    "1 3\n",
    "1 4\n",
    "```\n",
    "#### 예제 출력 2 \n",
    "```\n",
    "-1\n",
    "```\n",
    "#### 예제 입력 3 \n",
    "```\n",
    "4 4 1 1\n",
    "1 2\n",
    "1 3\n",
    "2 3\n",
    "2 4\n",
    "```\n",
    "#### 예제 출력 3 \n",
    "```\n",
    "2\n",
    "3\n",
    "```"
   ]
  },
  {
   "cell_type": "markdown",
   "metadata": {},
   "source": [
    "# 은선"
   ]
  },
  {
   "cell_type": "code",
   "execution_count": null,
   "metadata": {},
   "outputs": [],
   "source": [
    "# https://www.acmicpc.net/problem/18352\n",
    "\n",
    "import sys\n",
    "from collections import deque\n",
    "\n",
    "def solution():\n",
    "    # 1. input\n",
    "    n_city, n_road, dist, start = map(int, sys.stdin.readline().split())\n",
    "\n",
    "    road = [[] for _ in range(n_city)] # road[i][j] : i -> j (인접 리스트)\n",
    "    for _ in range(n_road):\n",
    "        a, b = map(int, sys.stdin.readline().split())\n",
    "        road[a-1].append(b-1)\n",
    "    \n",
    "    # 2. BFS\n",
    "    ret = []\n",
    "    visit= [-1 for _ in range(n_city)]\n",
    "    visit[start-1] = 0\n",
    "    queue = deque()\n",
    "    queue.append(start-1)\n",
    "    while queue:\n",
    "        cur_city = queue.popleft()\n",
    "        if visit[cur_city] == dist:\n",
    "            ret.append(cur_city + 1)\n",
    "        elif visit[cur_city] < dist: # else 해도 동일: queue에는 <=dist 까지만 저장\n",
    "            for next_city in road[cur_city]:\n",
    "                if visit[next_city] > -1: continue\n",
    "                queue.append(next_city)\n",
    "                visit[next_city] = visit[cur_city] + 1\n",
    "\n",
    "    # 3. Print\n",
    "    if ret:\n",
    "        ret.sort()\n",
    "        for val in ret:\n",
    "            print(val, sep=\"\\n\")\n",
    "    else:\n",
    "        print(\"-1\")\n",
    "    \n",
    "\n",
    "solution()"
   ]
  }
 ],
 "metadata": {
  "kernelspec": {
   "display_name": "Python 3",
   "language": "python",
   "name": "python3"
  },
  "language_info": {
   "codemirror_mode": {
    "name": "ipython",
    "version": 3
   },
   "file_extension": ".py",
   "mimetype": "text/x-python",
   "name": "python",
   "nbconvert_exporter": "python",
   "pygments_lexer": "ipython3",
   "version": "3.7.4"
  },
  "varInspector": {
   "cols": {
    "lenName": 16,
    "lenType": 16,
    "lenVar": 40
   },
   "kernels_config": {
    "python": {
     "delete_cmd_postfix": "",
     "delete_cmd_prefix": "del ",
     "library": "var_list.py",
     "varRefreshCmd": "print(var_dic_list())"
    },
    "r": {
     "delete_cmd_postfix": ") ",
     "delete_cmd_prefix": "rm(",
     "library": "var_list.r",
     "varRefreshCmd": "cat(var_dic_list()) "
    }
   },
   "types_to_exclude": [
    "module",
    "function",
    "builtin_function_or_method",
    "instance",
    "_Feature"
   ],
   "window_display": false
  }
 },
 "nbformat": 4,
 "nbformat_minor": 4
}

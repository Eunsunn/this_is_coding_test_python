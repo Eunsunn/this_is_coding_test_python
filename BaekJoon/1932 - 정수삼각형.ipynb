{
 "cells": [
  {
   "cell_type": "markdown",
   "metadata": {},
   "source": [
    "<div class=\"col-md-12\">\n",
    "\t\t\t\t<section id=\"description\" class=\"problem-section\">\n",
    "\t\t\t\t<div class=\"headline\">\n",
    "\t\t\t\t<h2>문제</h2>\n",
    "\t\t\t\t</div>\n",
    "\t\t\t\t<div id=\"problem_description\" class=\"problem-text\">\n",
    "\t\t\t\t<pre>        7\n",
    "      3   8\n",
    "    8   1   0\n",
    "  2   7   4   4\n",
    "4   5   2   6   5</pre>\n",
    "\n",
    "<p>위 그림은 크기가 5인 정수 삼각형의 한 모습이다.</p>\n",
    "\n",
    "<p>맨 위층 7부터 시작해서 아래에 있는 수 중 하나를 선택하여 아래층으로 내려올 때, 이제까지 선택된 수의 합이 최대가 되는 경로를 구하는 프로그램을 작성하라. 아래층에 있는 수는 현재 층에서 선택된 수의 대각선 왼쪽 또는 대각선 오른쪽에 있는 것 중에서만 선택할 수 있다.</p>\n",
    "\n",
    "<p>삼각형의 크기는 1 이상 500 이하이다. 삼각형을 이루고 있는 각 수는 모두 정수이며, 범위는 0 이상 9999 이하이다.</p>\n",
    "\n",
    "<div class=\"col-md-12\">\n",
    "\t\t\t\t\t<section id=\"input\" class=\"problem-section\">\n",
    "\t\t\t\t\t<div class=\"headline\">\n",
    "\t\t\t\t\t<h2>입력</h2>\n",
    "\t\t\t\t\t</div>\n",
    "\t\t\t\t\t<div id=\"problem_input\" class=\"problem-text\">\n",
    "\t\t\t\t\t<p>첫째 줄에 삼각형의 크기 n(1 ≤ n ≤ 500)이 주어지고, 둘째 줄부터 n+1번째 줄까지 정수 삼각형이 주어진다.</p>\n",
    "<div class=\"col-md-12\">\n",
    "\t\t\t\t\t<section id=\"output\" class=\"problem-section\">\n",
    "\t\t\t\t\t<div class=\"headline\">\n",
    "\t\t\t\t\t<h2>출력</h2>\n",
    "\t\t\t\t\t</div>\n",
    "\t\t\t\t\t<div id=\"problem_output\" class=\"problem-text\">\n",
    "\t\t\t\t\t<p>첫째 줄에&nbsp;합이 최대가 되는 경로에 있는 수의 합을 출력한다.</p>\n",
    "<div class=\"col-md-12\">\n",
    "\t\t\t\t<div class=\"row\">\n",
    "\t\t\t\t\t<div class=\"col-md-6\">\n",
    "\t\t\t\t\t\t<section id=\"sampleinput1\">\n",
    "\t\t\t\t\t\t<div class=\"headline\">\n",
    "\t\t\t\t\t\t<h2>예제 입력 1\n",
    "\t\t\t\t\t\t\t<button type=\"button\" class=\"btn btn-link copy-button\" style=\"padding: 0px;\" data-clipboard-target=\"#sample-input-1\">복사</button>\n",
    "\t\t\t\t\t\t</h2>\n",
    "\t\t\t\t\t\t</div>\n",
    "\t\t\t\t\t\t<pre class=\"sampledata\" id=\"sample-input-1\">5\n",
    "7\n",
    "3 8\n",
    "8 1 0\n",
    "2 7 4 4\n",
    "4 5 2 6 5\n",
    "</pre>\n",
    "\t\t\t\t\t\t</section>\n",
    "\t\t\t\t\t</div>\n",
    "\t\t\t\t\t<div class=\"col-md-6\">\n",
    "\t\t\t\t\t\t<section id=\"sampleoutput1\">\n",
    "\t\t\t\t\t\t<div class=\"headline\">\n",
    "\t\t\t\t\t\t<h2>예제 출력 1\n",
    "\t\t\t\t\t\t\t<button type=\"button\" class=\"btn btn-link copy-button\" style=\"padding: 0px;\" data-clipboard-target=\"#sample-output-1\">복사</button>\n",
    "\t\t\t\t\t\t</h2>\n",
    "\t\t\t\t\t\t</div>\n",
    "\t\t\t\t\t\t<pre class=\"sampledata\" id=\"sample-output-1\">30\n",
    "</pre>\n",
    "\t\t\t\t\t\t</section>\n",
    "\t\t\t\t\t</div>\n",
    "\t\t\t\t\t\t\t\t\t</div>\n",
    "\t\t\t\t</div>\n"
   ]
  },
  {
   "cell_type": "markdown",
   "metadata": {},
   "source": [
    "# 은선"
   ]
  },
  {
   "cell_type": "code",
   "execution_count": null,
   "metadata": {},
   "outputs": [],
   "source": [
    "# https://www.acmicpc.net/problem/1932\n",
    "\n",
    "def solution():\n",
    "    n = int(input())\n",
    "\n",
    "    prev_arr = [int(input())] # 이전 행\n",
    "    for _ in range(n-1):\n",
    "        cur_arr = list(map(int, input().split())) # 현재 행\n",
    "        # 현재 행의 원소마다 최대값 찾기\n",
    "        for i in range(len(cur_arr)):\n",
    "            max_val = 0\n",
    "            if i-1 < 0: # 첫번째 열\n",
    "                max_val = prev_arr[i]\n",
    "            elif i >= len(prev_arr): # 마지막 열\n",
    "                max_val = prev_arr[i-1]\n",
    "            else: # 중간\n",
    "                max_val = max(prev_arr[i-1], prev_arr[i])\n",
    "            cur_arr[i] += max_val\n",
    "        # 이전 행 갱신\n",
    "        prev_arr = cur_arr\n",
    "    \n",
    "    return max(prev_arr)\n",
    "\n",
    "print(solution())"
   ]
  }
 ],
 "metadata": {
  "kernelspec": {
   "display_name": "Python 3",
   "language": "python",
   "name": "python3"
  },
  "language_info": {
   "codemirror_mode": {
    "name": "ipython",
    "version": 3
   },
   "file_extension": ".py",
   "mimetype": "text/x-python",
   "name": "python",
   "nbconvert_exporter": "python",
   "pygments_lexer": "ipython3",
   "version": "3.7.4"
  },
  "varInspector": {
   "cols": {
    "lenName": 16,
    "lenType": 16,
    "lenVar": 40
   },
   "kernels_config": {
    "python": {
     "delete_cmd_postfix": "",
     "delete_cmd_prefix": "del ",
     "library": "var_list.py",
     "varRefreshCmd": "print(var_dic_list())"
    },
    "r": {
     "delete_cmd_postfix": ") ",
     "delete_cmd_prefix": "rm(",
     "library": "var_list.r",
     "varRefreshCmd": "cat(var_dic_list()) "
    }
   },
   "types_to_exclude": [
    "module",
    "function",
    "builtin_function_or_method",
    "instance",
    "_Feature"
   ],
   "window_display": false
  }
 },
 "nbformat": 4,
 "nbformat_minor": 4
}

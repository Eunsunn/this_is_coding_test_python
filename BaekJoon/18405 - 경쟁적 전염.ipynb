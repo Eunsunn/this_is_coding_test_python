{
 "cells": [
  {
   "cell_type": "markdown",
   "metadata": {},
   "source": [
    "# 18405번: 경쟁적 전염\n",
    "\n",
    "<section id=\"description\" class=\"problem-section\">\n",
    "\t\t\t\t<div class=\"headline\">\n",
    "\t\t\t\t<h2>문제</h2>\n",
    "\t\t\t\t</div>\n",
    "\t\t\t\t<div id=\"problem_description\" class=\"problem-text\">\n",
    "\t\t\t\t<p><em>N</em>x<em>N</em> 크기의 시험관이 있다. 시험관은 1x1 크기의 칸으로 나누어지며, 특정한 위치에는 바이러스가 존재할 수 있다. 모든 바이러스는 1번부터 <em>K</em>번까지의 바이러스 종류 중 하나에 속한다.</p>\n",
    "\n",
    "<p>시험관에 존재하는 모든 바이러스는 1초마다 상, 하, 좌, 우의 방향으로 증식해 나간다. 단, 매 초마다 번호가 낮은 종류의 바이러스부터 먼저 증식한다. 또한 증식 과정에서 특정한 칸에 이미 어떠한 바이러스가 존재한다면, 그 곳에는 다른 바이러스가 들어갈 수 없다.</p>\n",
    "\n",
    "<p>시험관의 크기와 바이러스의 위치 정보가 주어졌을 때, <em>S</em>초가 지난 후에 (X,Y)에 존재하는 바이러스의 종류를 출력하는 프로그램을 작성하시오. 만약 <em>S</em>초가 지난 후에 해당 위치에 바이러스가 존재하지 않는다면, 0을 출력한다. 이 때 X<font face=\"sans-serif, Arial, Verdana, Trebuchet MS, Apple Color Emoji, Segoe UI Emoji, Segoe UI Symbol\">와&nbsp;</font>Y는 각각 행과 열의 위치를 의미하며, 시험관의 가장 왼쪽 위에 해당하는 곳은 (1,1)에 해당한다.</p>\n",
    "\n",
    "<p>예를 들어 다음과 같이 3x3 크기의 시험관이 있다고 하자. 서로 다른 1번, 2번, 3번 바이러스가 각각 (1,1), (1,3), (3,1)에 위치해 있다. 이 때 2초가 지난 뒤에 (3,2)에 존재하는 바이러스의 종류를 계산해보자.</p>\n",
    "\n",
    "<p style=\"text-align: center;\"><img alt=\"\" src=\"https://upload.acmicpc.net/02958527-debb-46e3-a56d-79b87ad46d03/-/preview/\" style=\"height: 148px; width: 250px;\"></p>\n",
    "\n",
    "<p style=\"text-align: justify;\">1초가 지난 후에 시험관의 상태는 다음과 같다.</p>\n",
    "\n",
    "<p style=\"text-align: center;\"><img alt=\"\" src=\"https://upload.acmicpc.net/9ab631e7-1f1d-42fe-b8b8-95ded9bce52d/-/preview/\" style=\"height: 148px; width: 250px;\"></p>\n",
    "\n",
    "<p>2초가 지난 후에 시험관의 상태는 다음과 같다.</p>\n",
    "\n",
    "<p style=\"text-align: center;\"><img alt=\"\" src=\"https://upload.acmicpc.net/35ea13c6-9ee3-40e1-8b21-c37beaf46c59/-/preview/\" style=\"height: 148px; width: 250px;\"></p>\n",
    "\n",
    "<p style=\"text-align: justify;\">결과적으로 2초가 지난 뒤에 (3,2)에 존재하는 바이러스의 종류는 3번 바이러스다. 따라서 3을 출력하면 정답이다.</p>"
   ]
  },
  {
   "cell_type": "markdown",
   "metadata": {},
   "source": [
    "# 은선"
   ]
  },
  {
   "cell_type": "code",
   "execution_count": 2,
   "metadata": {
    "ExecuteTime": {
     "end_time": "2021-02-25T04:53:34.044768Z",
     "start_time": "2021-02-25T04:53:34.001419Z"
    }
   },
   "outputs": [],
   "source": [
    "# https://www.acmicpc.net/problem/18405 \n",
    "\n",
    "import sys\n",
    "\n",
    "def solution():\n",
    "    dx = [1, -1, 0, 0] # 동, 서, 남, 북\n",
    "    dy = [0, 0, 1, -1]\n",
    "\n",
    "    n, k = map(int, sys.stdin.readline().split())\n",
    "    board = []\n",
    "    q = []\n",
    "    for i in range(n):\n",
    "        board.append(list(map(int, sys.stdin.readline().split())))\n",
    "        for j in range(n):\n",
    "            if board[i][j] > 0:\n",
    "                q.append([board[i][j], i, j])\n",
    "\n",
    "    s, x, y = map(int, sys.stdin.readline().split())\n",
    "\n",
    "    time = 0\n",
    "    q.sort()\n",
    "    while time < s:\n",
    "        next_q = []\n",
    "        for info in q:\n",
    "            num, r, c = info\n",
    "            for j in range(len(dx)):\n",
    "                next_r, next_c = r + dy[j], c + dx[j]\n",
    "                if next_r < 0 or next_r >= n or next_c < 0 or next_c >= n: continue\n",
    "                if board[next_r][next_c] > 0: continue\n",
    "                board[next_r][next_c] = num\n",
    "                next_q.append([num, next_r, next_c])\n",
    "        time += 1\n",
    "        q = next_q\n",
    "    return board[x-1][y-1]\n",
    "\n",
    "\n",
    "print(solution())"
   ]
  }
 ],
 "metadata": {
  "kernelspec": {
   "display_name": "Python 3",
   "language": "python",
   "name": "python3"
  },
  "language_info": {
   "codemirror_mode": {
    "name": "ipython",
    "version": 3
   },
   "file_extension": ".py",
   "mimetype": "text/x-python",
   "name": "python",
   "nbconvert_exporter": "python",
   "pygments_lexer": "ipython3",
   "version": "3.7.4"
  },
  "varInspector": {
   "cols": {
    "lenName": 16,
    "lenType": 16,
    "lenVar": 40
   },
   "kernels_config": {
    "python": {
     "delete_cmd_postfix": "",
     "delete_cmd_prefix": "del ",
     "library": "var_list.py",
     "varRefreshCmd": "print(var_dic_list())"
    },
    "r": {
     "delete_cmd_postfix": ") ",
     "delete_cmd_prefix": "rm(",
     "library": "var_list.r",
     "varRefreshCmd": "cat(var_dic_list()) "
    }
   },
   "types_to_exclude": [
    "module",
    "function",
    "builtin_function_or_method",
    "instance",
    "_Feature"
   ],
   "window_display": false
  }
 },
 "nbformat": 4,
 "nbformat_minor": 4
}

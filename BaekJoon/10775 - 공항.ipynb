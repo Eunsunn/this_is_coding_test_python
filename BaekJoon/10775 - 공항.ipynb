{
 "cells": [
  {
   "cell_type": "markdown",
   "metadata": {},
   "source": [
    "https://www.acmicpc.net/problem/10775"
   ]
  },
  {
   "cell_type": "markdown",
   "metadata": {},
   "source": [
    "<div class=\"col-md-12\">\n",
    "\t\t\t\t<section id=\"description\" class=\"problem-section\">\n",
    "\t\t\t\t<div class=\"headline\">\n",
    "\t\t\t\t<h2>문제</h2>\n",
    "\t\t\t\t</div>\n",
    "\t\t\t\t<div id=\"problem_description\" class=\"problem-text\">\n",
    "\t\t\t\t<p>오늘은 신승원의 생일이다.</p>\n",
    "\n",
    "<p>박승원은 생일을 맞아 신승원에게 인천국제공항을 선물로 줬다.</p>\n",
    "\n",
    "<p>공항에는 G개의 게이트가 있으며 각각은 1에서 G까지의 번호를 가지고 있다.</p>\n",
    "\n",
    "<p>공항에는 P개의 비행기가 순서대로 도착할 예정이며, 당신은 i번째 비행기를 1번부터 g<sub>i</sub> (1 ≤ g<sub>i</sub> ≤ G) 번째 게이트중 하나에 영구적으로 도킹하려 한다. 비행기가 어느 게이트에도 도킹할 수 없다면 공항이 폐쇄되고, 이후 어떤 비행기도 도착할 수 없다.</p>\n",
    "\n",
    "<p>신승원은 가장 많은 비행기를 공항에 도킹시켜서 박승원을 행복하게 하고 싶어한다. 승원이는 비행기를 최대 몇 대 도킹시킬 수 있는가?</p>\n",
    "\n",
    "</div>\n",
    "</section>\n",
    "</div>\n",
    "<section id=\"input\" class=\"problem-section\">\n",
    "\t\t\t\t\t<div class=\"headline\">\n",
    "\t\t\t\t\t<h2>입력</h2>\n",
    "\t\t\t\t\t</div>\n",
    "\t\t\t\t\t<div id=\"problem_input\" class=\"problem-text\">\n",
    "\t\t\t\t\t<p>첫 번째 줄에는 게이트의 수 G (1 ≤ G ≤ 10<sup>5</sup>)가 주어진다.</p>\n",
    "\n",
    "<p>두 번째 줄에는 비행기의 수 P (1 ≤ P ≤ 10<sup>5</sup>)가 주어진다.</p>\n",
    "\n",
    "<p>이후 P개의 줄에 g<sub>i</sub> (1 ≤ g<sub>i</sub> ≤ G) 가 주어진다.</p>\n",
    "\n",
    "</div>\n",
    "</section>\n",
    "<section id=\"output\" class=\"problem-section\">\n",
    "\t\t\t\t\t<div class=\"headline\">\n",
    "\t\t\t\t\t<h2>출력</h2>\n",
    "\t\t\t\t\t</div>\n",
    "\t\t\t\t\t<div id=\"problem_output\" class=\"problem-text\">\n",
    "\t\t\t\t\t<p>승원이가 도킹시킬 수 있는 최대의 비행기 수를 출력한다.</p>\n",
    "</div>\n",
    "</section>\n",
    "<section id=\"sampleinput1\">\n",
    "\t\t\t\t\t\t<div class=\"headline\">\n",
    "\t\t\t\t\t\t<h2>예제 입력 1\n",
    "\t\t\t\t\t\t\t<button type=\"button\" class=\"btn btn-link copy-button\" style=\"padding: 0px;\" data-clipboard-target=\"#sample-input-1\">복사</button>\n",
    "\t\t\t\t\t\t</h2>\n",
    "\t\t\t\t\t\t</div>\n",
    "\t\t\t\t\t\t<pre class=\"sampledata\" id=\"sample-input-1\">4\n",
    "3\n",
    "4\n",
    "1\n",
    "1\n",
    "</pre>\n",
    "</section>\n",
    "<section id=\"sampleoutput1\">\n",
    "\t\t\t\t\t\t<div class=\"headline\">\n",
    "\t\t\t\t\t\t<h2>예제 출력 1\n",
    "\t\t\t\t\t\t\t<button type=\"button\" class=\"btn btn-link copy-button\" style=\"padding: 0px;\" data-clipboard-target=\"#sample-output-1\">복사</button>\n",
    "\t\t\t\t\t\t</h2>\n",
    "\t\t\t\t\t\t</div>\n",
    "\t\t\t\t\t\t<pre class=\"sampledata\" id=\"sample-output-1\">2\n",
    "</pre>\n",
    "</section>\n",
    "<section id=\"sampleinput2\">\n",
    "\t\t\t\t\t\t<div class=\"headline\">\n",
    "\t\t\t\t\t\t<h2>예제 입력 2\n",
    "\t\t\t\t\t\t\t<button type=\"button\" class=\"btn btn-link copy-button\" style=\"padding: 0px;\" data-clipboard-target=\"#sample-input-2\">복사</button>\n",
    "\t\t\t\t\t\t</h2>\n",
    "\t\t\t\t\t\t</div>\n",
    "\t\t\t\t\t\t<pre class=\"sampledata\" id=\"sample-input-2\">4\n",
    "6\n",
    "2\n",
    "2\n",
    "3\n",
    "3\n",
    "4\n",
    "4\n",
    "</pre>\n",
    "</section>\n",
    "<section id=\"sampleoutput2\">\n",
    "\t\t\t\t\t\t<div class=\"headline\">\n",
    "\t\t\t\t\t\t<h2>예제 출력 2\n",
    "\t\t\t\t\t\t\t<button type=\"button\" class=\"btn btn-link copy-button\" style=\"padding: 0px;\" data-clipboard-target=\"#sample-output-2\">복사</button>\n",
    "\t\t\t\t\t\t</h2>\n",
    "\t\t\t\t\t\t</div>\n",
    "\t\t\t\t\t\t<pre class=\"sampledata\" id=\"sample-output-2\">3\n",
    "</pre>\n",
    "</section>"
   ]
  },
  {
   "cell_type": "markdown",
   "metadata": {
    "ExecuteTime": {
     "end_time": "2021-05-30T01:31:38.649871Z",
     "start_time": "2021-05-30T01:31:38.643484Z"
    }
   },
   "source": [
    "# 은선"
   ]
  },
  {
   "cell_type": "code",
   "execution_count": null,
   "metadata": {},
   "outputs": [],
   "source": [
    "# https://www.acmicpc.net/problem/10775\n",
    "\n",
    "import sys\n",
    "\n",
    "def solution():\n",
    "    input = sys.stdin.readline\n",
    "    g = int(input())\n",
    "    p = int(input())\n",
    "\n",
    "    # 1 ~ i에서 비어있는 가장 큰 인덱스 번호\n",
    "    root = [i for i in range(g + 1)]\n",
    "\n",
    "    # 채워넣을 수 있는 root를 찾음\n",
    "    def find_root(idx):\n",
    "        if root[idx] != idx:\n",
    "            root[idx] = find_root(root[idx])\n",
    "        return root[idx]\n",
    "\n",
    "    # 두 트리를 합침\n",
    "    def union(idx1, idx2):\n",
    "        idx1 = find_root(idx1)\n",
    "        idx2 = find_root(idx2)\n",
    "        if idx1 < idx2:\n",
    "            root[idx2] = idx1\n",
    "        else:\n",
    "            root[idx1] = idx2\n",
    "\n",
    "    cnt = 0\n",
    "    for _ in range(min(p, g)):\n",
    "        gi = int(input())\n",
    "        idx = find_root(gi)\n",
    "        if idx == 0:\n",
    "            break\n",
    "        else:\n",
    "            cnt += 1\n",
    "            union(idx, idx - 1)\n",
    "    return cnt\n",
    "\n",
    "\n",
    "if __name__ == \"__main__\":\n",
    "    print(solution())"
   ]
  }
 ],
 "metadata": {
  "kernelspec": {
   "display_name": "Python 3",
   "language": "python",
   "name": "python3"
  },
  "language_info": {
   "codemirror_mode": {
    "name": "ipython",
    "version": 3
   },
   "file_extension": ".py",
   "mimetype": "text/x-python",
   "name": "python",
   "nbconvert_exporter": "python",
   "pygments_lexer": "ipython3",
   "version": "3.7.4"
  },
  "varInspector": {
   "cols": {
    "lenName": 16,
    "lenType": 16,
    "lenVar": 40
   },
   "kernels_config": {
    "python": {
     "delete_cmd_postfix": "",
     "delete_cmd_prefix": "del ",
     "library": "var_list.py",
     "varRefreshCmd": "print(var_dic_list())"
    },
    "r": {
     "delete_cmd_postfix": ") ",
     "delete_cmd_prefix": "rm(",
     "library": "var_list.r",
     "varRefreshCmd": "cat(var_dic_list()) "
    }
   },
   "types_to_exclude": [
    "module",
    "function",
    "builtin_function_or_method",
    "instance",
    "_Feature"
   ],
   "window_display": false
  }
 },
 "nbformat": 4,
 "nbformat_minor": 4
}

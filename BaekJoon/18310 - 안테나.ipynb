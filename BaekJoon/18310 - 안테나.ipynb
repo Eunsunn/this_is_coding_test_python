{
 "cells": [
  {
   "cell_type": "markdown",
   "metadata": {},
   "source": [
    "<div class=\"col-md-12\">\n",
    "\t\t\t\t<section id=\"description\" class=\"problem-section\">\n",
    "\t\t\t\t<div class=\"headline\">\n",
    "\t\t\t\t<h2>문제</h2>\n",
    "\t\t\t\t</div>\n",
    "\t\t\t\t<div id=\"problem_description\" class=\"problem-text\">\n",
    "\t\t\t\t<p>일직선 상의 마을에 여러 채의 집이 위치해 있다. 이중에서 특정 위치의 집에 특별히 한 개의 안테나를 설치하기로 결정했다. 효율성을 위해 안테나로부터 모든 집까지의 거리의 총 합이 최소가 되도록 설치하려고 한다. 이 때 안테나는 집이 위치한 곳에만 설치할 수 있고, 논리적으로 동일한 위치에 여러 개의 집이 존재하는 것이 가능하다.</p>\n",
    "\n",
    "<p>집들의 위치 값이 주어질 때, 안테나를 설치할 위치를 선택하는 프로그램을 작성하시오.</p>\n",
    "\n",
    "<p>예를 들어 <em>N</em>=4이고, 각 위치가 1, 5, 7, 9일 때를 가정하자.</p>\n",
    "\n",
    "<p style=\"text-align: center;\"><img alt=\"\" src=\"https://upload.acmicpc.net/4da9d177-d4d8-4cf7-9f91-a75d5a6ec5e6/-/preview/\" style=\"height: 113px; width: 600px;\"></p>\n",
    "\n",
    "<p>이 경우 5의 위치에 설치했을 때, 안테나로부터 모든 집까지의 거리의 총 합이 (4+0+2+4)=10으로, 최소가 된다.</p>\n",
    "\n",
    "<div class=\"col-md-12\">\n",
    "\t\t\t\t\t<section id=\"input\" class=\"problem-section\">\n",
    "\t\t\t\t\t<div class=\"headline\">\n",
    "\t\t\t\t\t<h2>입력</h2>\n",
    "\t\t\t\t\t</div>\n",
    "\t\t\t\t\t<div id=\"problem_input\" class=\"problem-text\">\n",
    "\t\t\t\t\t<p>첫째 줄에 집의 수 <em>N</em>이 자연수로 주어진다.&nbsp;(1≤<em>N</em>≤200,000) 둘째 줄에 <em>N</em>채의 집에 위치가 공백을 기준으로 구분되어 1이상 100,000이하의 자연수로 주어진다.</p>\n",
    "\n",
    "<div class=\"col-md-12\">\n",
    "\t\t\t\t\t<section id=\"output\" class=\"problem-section\">\n",
    "\t\t\t\t\t<div class=\"headline\">\n",
    "\t\t\t\t\t<h2>출력</h2>\n",
    "\t\t\t\t\t</div>\n",
    "\t\t\t\t\t<div id=\"problem_output\" class=\"problem-text\">\n",
    "\t\t\t\t\t<p>첫째 줄에 안테나를 설치할 위치의 값을 출력한다. 단, 안테나를 설치할 수 있는 위치 값으로 여러 개의 값이 도출될 경우 가장 작은 값을 출력한다.</p>\n",
    "\n",
    "\n",
    "<div class=\"col-md-12\">\n",
    "\t\t\t\t<div class=\"row\">\n",
    "\t\t\t\t\t<div class=\"col-md-6\">\n",
    "\t\t\t\t\t\t<section id=\"sampleinput1\">\n",
    "\t\t\t\t\t\t<div class=\"headline\">\n",
    "\t\t\t\t\t\t<h2>예제 입력 1\n",
    "\t\t\t\t\t\t\t<button type=\"button\" class=\"btn btn-link copy-button\" style=\"padding: 0px;\" data-clipboard-target=\"#sample-input-1\">복사</button>\n",
    "\t\t\t\t\t\t</h2>\n",
    "\t\t\t\t\t\t</div>\n",
    "\t\t\t\t\t\t<pre class=\"sampledata\" id=\"sample-input-1\">4\n",
    "5 1 7 9\n",
    "</pre>\n",
    "\t\t\t\t\t\t</section>\n",
    "\t\t\t\t\t</div>\n",
    "\t\t\t\t\t<div class=\"col-md-6\">\n",
    "\t\t\t\t\t\t<section id=\"sampleoutput1\">\n",
    "\t\t\t\t\t\t<div class=\"headline\">\n",
    "\t\t\t\t\t\t<h2>예제 출력 1\n",
    "\t\t\t\t\t\t\t<button type=\"button\" class=\"btn btn-link copy-button\" style=\"padding: 0px;\" data-clipboard-target=\"#sample-output-1\">복사</button>\n",
    "\t\t\t\t\t\t</h2>\n",
    "\t\t\t\t\t\t</div>\n",
    "\t\t\t\t\t\t<pre class=\"sampledata\" id=\"sample-output-1\">5\n",
    "</pre>\n",
    "\t\t\t\t\t\t</section>\n",
    "\t\t\t\t\t</div>\n",
    "\t\t\t\t\t\t\t\t\t</div>\n",
    "\t\t\t\t</div>"
   ]
  },
  {
   "cell_type": "markdown",
   "metadata": {},
   "source": [
    "# 은선"
   ]
  },
  {
   "cell_type": "code",
   "execution_count": null,
   "metadata": {},
   "outputs": [],
   "source": [
    "# https://www.acmicpc.net/problem/18310\n",
    "\n",
    "import sys\n",
    "\n",
    "def solution():\n",
    "    n = int(sys.stdin.readline())\n",
    "    home = list(map(int, sys.stdin.readline().split()))\n",
    "    home.sort()\n",
    "\n",
    "    left_sum, right_sum = [0], [0]\n",
    "    for i in range(1, n):\n",
    "        l_dist = home[i] - home[i-1]\n",
    "        r_dist = home[n-i] - home[n-i-1]\n",
    "        left_sum.append(left_sum[i-1] + l_dist * len(left_sum))\n",
    "        right_sum.append(right_sum[i-1] + r_dist * len(right_sum))\n",
    "    right_sum.reverse()\n",
    "\n",
    "    min_sum = None\n",
    "    min_idx = -1\n",
    "    for i in range(n):\n",
    "        i_sum = left_sum[i] + right_sum[i]\n",
    "        if min_sum is None or i_sum < min_sum:\n",
    "            min_sum = i_sum\n",
    "            min_idx = i\n",
    "    \n",
    "    return home[min_idx]\n",
    "\n",
    "print(solution())"
   ]
  }
 ],
 "metadata": {
  "kernelspec": {
   "display_name": "Python 3",
   "language": "python",
   "name": "python3"
  },
  "language_info": {
   "codemirror_mode": {
    "name": "ipython",
    "version": 3
   },
   "file_extension": ".py",
   "mimetype": "text/x-python",
   "name": "python",
   "nbconvert_exporter": "python",
   "pygments_lexer": "ipython3",
   "version": "3.7.4"
  },
  "varInspector": {
   "cols": {
    "lenName": 16,
    "lenType": 16,
    "lenVar": 40
   },
   "kernels_config": {
    "python": {
     "delete_cmd_postfix": "",
     "delete_cmd_prefix": "del ",
     "library": "var_list.py",
     "varRefreshCmd": "print(var_dic_list())"
    },
    "r": {
     "delete_cmd_postfix": ") ",
     "delete_cmd_prefix": "rm(",
     "library": "var_list.r",
     "varRefreshCmd": "cat(var_dic_list()) "
    }
   },
   "types_to_exclude": [
    "module",
    "function",
    "builtin_function_or_method",
    "instance",
    "_Feature"
   ],
   "window_display": false
  }
 },
 "nbformat": 4,
 "nbformat_minor": 4
}

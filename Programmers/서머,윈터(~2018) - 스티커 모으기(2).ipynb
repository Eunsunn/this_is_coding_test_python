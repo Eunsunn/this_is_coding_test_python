{
 "cells": [
  {
   "cell_type": "markdown",
   "metadata": {},
   "source": [
    "# 스티커 모으기2\n",
    "<h6 class=\"guide-section-title\">문제 설명</h6>\n",
    "<div class=\"markdown solarized-dark\"><p>N개의 스티커가 원형으로 연결되어 있습니다. 다음 그림은 N = 8인 경우의 예시입니다.<br>\n",
    "<img src=\"https://grepp-programmers.s3.ap-northeast-2.amazonaws.com/files/production/d8d3a8b3-606c-4fb6-baf2-3a96cb53d70c/%E1%84%89%E1%85%B3%E1%84%90%E1%85%B5%E1%84%8F%E1%85%A5_hb1jty.jpg\" title=\"\" alt=\"스티커_hb1jty.jpg\"><br>\n",
    "원형으로 연결된 스티커에서 몇 장의 스티커를 뜯어내어 뜯어낸 스티커에 적힌 숫자의 합이 최대가 되도록 하고 싶습니다. 단 스티커 한 장을 뜯어내면 양쪽으로 인접해있는 스티커는 찢어져서 사용할 수 없게 됩니다. </p>\n",
    "\n",
    "<p>예를 들어 위 그림에서 14가 적힌 스티커를 뜯으면 인접해있는 10, 6이 적힌 스티커는 사용할 수 없습니다. 스티커에 적힌 숫자가 배열 형태로 주어질 때, 스티커를 뜯어내어 얻을 수 있는 숫자의 합의 최댓값을 return 하는 solution 함수를 완성해 주세요. 원형의 스티커 모양을 위해 배열의 첫 번째 원소와 마지막 원소가 서로 연결되어 있다고 간주합니다.</p>\n",
    "\n",
    "<h5>제한 사항</h5>\n",
    "\n",
    "<ul>\n",
    "<li>sticker는 원형으로 연결된 스티커의 각 칸에 적힌 숫자가 순서대로 들어있는 배열로, 길이(N)는 1 이상 100,000 이하입니다.</li>\n",
    "<li>sticker의 각 원소는 스티커의 각 칸에 적힌 숫자이며, 각 칸에 적힌 숫자는 1 이상 100 이하의 자연수입니다.</li>\n",
    "<li>원형의 스티커 모양을 위해 sticker 배열의 첫 번째 원소와 마지막 원소가 서로 연결되어있다고 간주합니다.</li>\n",
    "</ul>\n",
    "\n",
    "<hr>\n",
    "\n",
    "<h5>입출력 예</h5>\n",
    "<table class=\"table\">\n",
    "        <thead><tr>\n",
    "<th>sticker</th>\n",
    "<th>answer</th>\n",
    "</tr>\n",
    "</thead>\n",
    "        <tbody><tr>\n",
    "<td>[14, 6, 5, 11, 3, 9, 2, 10]</td>\n",
    "<td>36</td>\n",
    "</tr>\n",
    "<tr>\n",
    "<td>[1, 3, 2, 5, 4]</td>\n",
    "<td>8</td>\n",
    "</tr>\n",
    "</tbody>\n",
    "      </table>\n",
    "<h5>입출력 예 설명</h5>\n",
    "\n",
    "<p>입출력 예 #1<br>\n",
    "6, 11, 9, 10이 적힌 스티커를 떼어 냈을 때 36으로 최대가 됩니다.</p>\n",
    "\n",
    "<p>입출력 예 #2<br>\n",
    "3, 5가 적힌 스티커를 떼어 냈을 때 8로 최대가 됩니다.</p>\n",
    "</div>\n",
    "    </div>"
   ]
  },
  {
   "cell_type": "markdown",
   "metadata": {},
   "source": [
    "# 은선"
   ]
  },
  {
   "cell_type": "code",
   "execution_count": null,
   "metadata": {},
   "outputs": [],
   "source": [
    "def solution(sticker):\n",
    "    if len(sticker) <= 2:\n",
    "        answer = 0\n",
    "        for i in sticker:\n",
    "            if answer < i:  answer = i\n",
    "        return answer\n",
    "\n",
    "    # 첫번째 사용하지 않는 경우: 마지막~1번째까지 tabulation\n",
    "    not_first = [0 for _ in range(len(sticker))]\n",
    "    for i in range(len(not_first)-1, 0, -1):\n",
    "        val_2, val_3 = 0, 0\n",
    "        if i+2 < len(sticker):\n",
    "            val_2 = not_first[i+2]\n",
    "        if i+3 < len(sticker):\n",
    "            val_3 = not_first[i+3]\n",
    "        not_first[i] = sticker[i] + max(val_2, val_3)\n",
    "\n",
    "    # 첫번째 사용하는 경우: (마지막-1)~0번째까지 tabulation\n",
    "    use_first = [0 for _ in range(len(sticker))]\n",
    "    for i in range(len(use_first)-2, -1, -1):\n",
    "        val_2, val_3 = 0, 0\n",
    "        if i+2 < len(sticker):\n",
    "            val_2 = use_first[i+2]\n",
    "        if i+3 < len(sticker):\n",
    "            val_3 = use_first[i+3]\n",
    "        use_first[i] = sticker[i] + max(val_2, val_3)\n",
    "    \n",
    "    ret1 = max(not_first[1], not_first[2])\n",
    "    ret2 = use_first[0]\n",
    "    return max(ret1, ret2)"
   ]
  }
 ],
 "metadata": {
  "kernelspec": {
   "display_name": "Python 3",
   "language": "python",
   "name": "python3"
  },
  "language_info": {
   "codemirror_mode": {
    "name": "ipython",
    "version": 3
   },
   "file_extension": ".py",
   "mimetype": "text/x-python",
   "name": "python",
   "nbconvert_exporter": "python",
   "pygments_lexer": "ipython3",
   "version": "3.7.4"
  },
  "varInspector": {
   "cols": {
    "lenName": 16,
    "lenType": 16,
    "lenVar": 40
   },
   "kernels_config": {
    "python": {
     "delete_cmd_postfix": "",
     "delete_cmd_prefix": "del ",
     "library": "var_list.py",
     "varRefreshCmd": "print(var_dic_list())"
    },
    "r": {
     "delete_cmd_postfix": ") ",
     "delete_cmd_prefix": "rm(",
     "library": "var_list.r",
     "varRefreshCmd": "cat(var_dic_list()) "
    }
   },
   "types_to_exclude": [
    "module",
    "function",
    "builtin_function_or_method",
    "instance",
    "_Feature"
   ],
   "window_display": false
  }
 },
 "nbformat": 4,
 "nbformat_minor": 4
}

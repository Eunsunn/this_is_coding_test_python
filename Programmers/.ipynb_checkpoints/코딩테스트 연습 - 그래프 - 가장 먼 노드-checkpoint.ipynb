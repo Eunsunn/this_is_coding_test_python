{
 "cells": [
  {
   "cell_type": "markdown",
   "metadata": {},
   "source": [
    "### [가장 먼 노드](https://programmers.co.kr/learn/courses/30/lessons/49189)\n",
    "\n",
    "<div class=\"guide-section-description\">\n",
    "      <h6 class=\"guide-section-title\">문제 설명</h6>\n",
    "      <div class=\"markdown solarized-dark\"><p>n개의 노드가 있는 그래프가 있습니다. 각 노드는 1부터 n까지 번호가 적혀있습니다. 1번 노드에서 가장 멀리 떨어진 노드의 갯수를 구하려고 합니다. 가장 멀리 떨어진 노드란 최단경로로 이동했을 때 간선의 개수가 가장 많은 노드들을 의미합니다.</p>\n",
    "\n",
    "<p>노드의 개수 n, 간선에 대한 정보가 담긴 2차원 배열 vertex가 매개변수로 주어질 때, 1번 노드로부터 가장 멀리 떨어진 노드가 몇 개인지를 return 하도록 solution 함수를 작성해주세요.</p>\n",
    "\n",
    "<h5>제한사항</h5>\n",
    "\n",
    "<ul>\n",
    "<li>노드의 개수 n은 2 이상 20,000 이하입니다.</li>\n",
    "<li>간선은 양방향이며 총 1개 이상 50,000개 이하의 간선이 있습니다.</li>\n",
    "<li>vertex 배열 각 행 [a, b]는 a번 노드와 b번 노드 사이에 간선이 있다는 의미입니다.</li>\n",
    "</ul>\n",
    "\n",
    "<h5>입출력 예</h5>\n",
    "<table class=\"table\">\n",
    "        <thead><tr>\n",
    "<th>n</th>\n",
    "<th>vertex</th>\n",
    "<th>return</th>\n",
    "</tr>\n",
    "</thead>\n",
    "        <tbody><tr>\n",
    "<td>6</td>\n",
    "<td>[[3, 6], [4, 3], [3, 2], [1, 3], [1, 2], [2, 4], [5, 2]]</td>\n",
    "<td>3</td>\n",
    "</tr>\n",
    "</tbody>\n",
    "      </table>\n",
    "<h5>입출력 예 설명</h5>\n",
    "\n",
    "<p>예제의 그래프를 표현하면 아래 그림과 같고, 1번 노드에서 가장 멀리 떨어진 노드는 4,5,6번 노드입니다.</p>\n",
    "\n",
    "<p><img src=\"https://grepp-programmers.s3.amazonaws.com/files/ybm/fadbae38bb/dec85ab5-0273-47b3-ba73-fc0b5f6be28a.png\" title=\"\" alt=\"image.png\"></p>\n",
    "</div>\n",
    "    </div>"
   ]
  },
  {
   "cell_type": "markdown",
   "metadata": {},
   "source": [
    "# 은선"
   ]
  },
  {
   "cell_type": "code",
   "execution_count": null,
   "metadata": {},
   "outputs": [],
   "source": [
    "# https://programmers.co.kr/learn/courses/30/lessons/49189\n",
    "# 한 노드(1번)로부터 다른 모든 노드까지의 최단 거리\n",
    "# -> 다익스트라\n",
    "\n",
    "from collections import deque\n",
    "\n",
    "def solution(n, edge):\n",
    "    answer = 0\n",
    "\n",
    "    dist = [ -1 for _ in range(n + 1)]\n",
    "    dist[1] = 0\n",
    "\n",
    "    adj = [ [] for _ in range(n + 1)]\n",
    "    for [f, to] in edge:\n",
    "        adj[f].append(to)\n",
    "        adj[to].append(f)\n",
    "\n",
    "    edges = deque([])\n",
    "    for v in adj[1]:\n",
    "        edges.append((1, v))\n",
    "\n",
    "    while edges:\n",
    "        top = edges.popleft()\n",
    "        f, to = top[0], top[1]\n",
    "        if dist[to] == -1:\n",
    "            dist[to] = dist[f] + 1\n",
    "            for v in adj[to]:\n",
    "                edges.append((to, v))\n",
    "\n",
    "    return dist.count(max(dist))"
   ]
  }
 ],
 "metadata": {
  "kernelspec": {
   "display_name": "Python 3",
   "language": "python",
   "name": "python3"
  },
  "language_info": {
   "codemirror_mode": {
    "name": "ipython",
    "version": 3
   },
   "file_extension": ".py",
   "mimetype": "text/x-python",
   "name": "python",
   "nbconvert_exporter": "python",
   "pygments_lexer": "ipython3",
   "version": "3.7.4"
  },
  "varInspector": {
   "cols": {
    "lenName": 16,
    "lenType": 16,
    "lenVar": 40
   },
   "kernels_config": {
    "python": {
     "delete_cmd_postfix": "",
     "delete_cmd_prefix": "del ",
     "library": "var_list.py",
     "varRefreshCmd": "print(var_dic_list())"
    },
    "r": {
     "delete_cmd_postfix": ") ",
     "delete_cmd_prefix": "rm(",
     "library": "var_list.r",
     "varRefreshCmd": "cat(var_dic_list()) "
    }
   },
   "types_to_exclude": [
    "module",
    "function",
    "builtin_function_or_method",
    "instance",
    "_Feature"
   ],
   "window_display": false
  }
 },
 "nbformat": 4,
 "nbformat_minor": 4
}

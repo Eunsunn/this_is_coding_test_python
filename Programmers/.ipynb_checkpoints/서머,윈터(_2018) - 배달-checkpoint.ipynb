{
 "cells": [
  {
   "cell_type": "markdown",
   "metadata": {},
   "source": [
    "# 배달\n",
    "\n",
    "<div class=\"markdown solarized-dark\"><p>N개의 마을로 이루어진 나라가 있습니다. 이 나라의 각 마을에는 1부터 N까지의 번호가 각각 하나씩 부여되어 있습니다. 각 마을은 양방향으로 통행할 수 있는 도로로 연결되어 있는데, 서로 다른 마을 간에 이동할 때는 이 도로를 지나야 합니다. 도로를 지날 때 걸리는 시간은 도로별로 다릅니다. 현재 1번 마을에 있는 음식점에서 각 마을로 음식 배달을 하려고 합니다. 각 마을로부터 음식 주문을 받으려고 하는데, N개의 마을 중에서 K 시간 이하로 배달이 가능한 마을에서만 주문을 받으려고 합니다. 다음은 N = 5, K = 3인 경우의 예시입니다.</p>\n",
    "\n",
    "<p><img src=\"https://grepp-programmers.s3.ap-northeast-2.amazonaws.com/files/production/d7779d88-084c-4ffa-ae9f-2a42f97d3bbf/%E1%84%87%E1%85%A2%E1%84%83%E1%85%A1%E1%86%AF_1_uxun8t.png\" title=\"\" alt=\"배달_1_uxun8t.png\"></p>\n",
    "\n",
    "<p>위 그림에서 1번 마을에 있는 음식점은 [1, 2, 4, 5] 번 마을까지는 3 이하의 시간에 배달할 수 있습니다. 그러나 3번 마을까지는 3시간 이내로 배달할 수 있는 경로가 없으므로 3번 마을에서는 주문을 받지 않습니다. 따라서 1번 마을에 있는 음식점이 배달 주문을 받을 수 있는 마을은 4개가 됩니다.<br>\n",
    "마을의 개수 N, 각 마을을 연결하는 도로의 정보 road, 음식 배달이 가능한 시간 K가 매개변수로 주어질 때, 음식 주문을 받을 수 있는 마을의 개수를 return 하도록 solution 함수를 완성해주세요.</p>\n",
    "\n",
    "<h5>제한사항</h5>\n",
    "\n",
    "<ul>\n",
    "<li>마을의 개수 N은 1 이상 50 이하의 자연수입니다.</li>\n",
    "<li>road의 길이(도로 정보의 개수)는 1 이상 2,000 이하입니다.</li>\n",
    "<li>road의 각 원소는 마을을 연결하고 있는 각 도로의 정보를 나타냅니다.</li>\n",
    "<li>road는 길이가 3인 배열이며, 순서대로 (a, b, c)를 나타냅니다.\n",
    "\n",
    "<ul>\n",
    "<li>a, b(1 ≤ a, b ≤ N, a != b)는 도로가 연결하는 두 마을의 번호이며, c(1 ≤ c ≤ 10,000, c는 자연수)는 도로를 지나는데 걸리는 시간입니다.</li>\n",
    "<li>두 마을 a, b를 연결하는 도로는 여러 개가 있을 수 있습니다.</li>\n",
    "<li>한 도로의 정보가 여러 번 중복해서 주어지지 않습니다.</li>\n",
    "</ul></li>\n",
    "<li>K는 음식 배달이 가능한 시간을 나타내며, 1 이상 500,000 이하입니다.</li>\n",
    "<li>임의의 두 마을간에 항상 이동 가능한 경로가 존재합니다.</li>\n",
    "<li>1번 마을에 있는 음식점이 K 이하의 시간에 배달이 가능한 마을의 개수를 return 하면 됩니다.</li>\n",
    "</ul>\n",
    "\n",
    "<hr>\n",
    "\n",
    "<h5>입출력 예</h5>\n",
    "<table class=\"table\">\n",
    "        <thead><tr>\n",
    "<th>N</th>\n",
    "<th>road</th>\n",
    "<th>K</th>\n",
    "<th>result</th>\n",
    "</tr>\n",
    "</thead>\n",
    "        <tbody><tr>\n",
    "<td>5</td>\n",
    "<td>[[1,2,1],[2,3,3],[5,2,2],[1,4,2],[5,3,1],[5,4,2]]</td>\n",
    "<td>3</td>\n",
    "<td>4</td>\n",
    "</tr>\n",
    "<tr>\n",
    "<td>6</td>\n",
    "<td>[[1,2,1],[1,3,2],[2,3,2],[3,4,3],[3,5,2],[3,5,3],[5,6,1]]</td>\n",
    "<td>4</td>\n",
    "<td>4</td>\n",
    "</tr>\n",
    "</tbody>\n",
    "      </table>\n",
    "<h5>입출력 예 설명</h5>\n",
    "\n",
    "<p>입출력 예 #1<br>\n",
    "문제의 예시와 같습니다.</p>\n",
    "\n",
    "<p>입출력 예 #2<br>\n",
    "주어진 마을과 도로의 모양은 아래 그림과 같습니다.<br>\n",
    "<img src=\"https://grepp-programmers.s3.ap-northeast-2.amazonaws.com/files/production/993685f2-6b97-4fe3-85b5-47c085dc1bf3/%E1%84%87%E1%85%A2%E1%84%83%E1%85%A1%E1%86%AF_3_njc7kq.png\" title=\"\" alt=\"배달_3_njc7kq.png\"><br>\n",
    "1번 마을에서 배달에 4시간 이하가 걸리는 마을은 [1, 2, 3, 5] 4개이므로 4를 return 합니다.</p>\n",
    "</div>"
   ]
  },
  {
   "cell_type": "markdown",
   "metadata": {},
   "source": [
    "# 은선"
   ]
  },
  {
   "cell_type": "code",
   "execution_count": null,
   "metadata": {},
   "outputs": [],
   "source": [
    "# https://programmers.co.kr/learn/courses/30/lessons/12978\n",
    "\n",
    "from collections import deque\n",
    "\n",
    "def solution(N, road, K):\n",
    "    # 노드간 거리 가중치가 있는 인접행렬 만들기\n",
    "    def adjacent_matrix():\n",
    "        matrix = [[0 for _ in range(N)] for _ in range(N)]\n",
    "        for x, y, dist in road:\n",
    "            prev_val = matrix[x-1][y-1]\n",
    "            if prev_val > 0: # 경로가 있는 경우 최소값을 선택\n",
    "                min_val = min(dist, prev_val)\n",
    "            else:\n",
    "                min_val = dist\n",
    "            matrix[x-1][y-1] = matrix[y-1][x-1] = min_val\n",
    "        return matrix\n",
    "\n",
    "    def bfs():\n",
    "        adjacent = adjacent_matrix()\n",
    "        print(adjacent)\n",
    "        queue = deque()\n",
    "        queue.append((0, 0))\n",
    "        visited_time = [-1 for _ in range(N)]\n",
    "        visited_time[0] = 0\n",
    "        cnt = 1\n",
    "        \n",
    "        while queue:\n",
    "            loc, time = queue.popleft()\n",
    "            \n",
    "            # 다음 마을 추가하기\n",
    "            for i in range(N):\n",
    "                # 다음 마을 패스: 길 없음 or 시간 초과 or not최소경로\n",
    "                next_t = time + adjacent[loc][i]\n",
    "                if (adjacent[loc][i] <= 0) or (next_t > K): continue\n",
    "                if visited_time[i] > 0 and (visited_time[i] < next_t): continue\n",
    "\n",
    "                queue.append((i, next_t))\n",
    "                # 최초로 방문한 경우만 cnt 증가\n",
    "                if visited_time[i] < 0:\n",
    "                    visited_time[i] = next_t\n",
    "                    cnt += 1\n",
    "        return cnt\n",
    "    \n",
    "    answer = bfs()\n",
    "    return answer"
   ]
  }
 ],
 "metadata": {
  "kernelspec": {
   "display_name": "Python 3",
   "language": "python",
   "name": "python3"
  },
  "language_info": {
   "codemirror_mode": {
    "name": "ipython",
    "version": 3
   },
   "file_extension": ".py",
   "mimetype": "text/x-python",
   "name": "python",
   "nbconvert_exporter": "python",
   "pygments_lexer": "ipython3",
   "version": "3.7.4"
  },
  "varInspector": {
   "cols": {
    "lenName": 16,
    "lenType": 16,
    "lenVar": 40
   },
   "kernels_config": {
    "python": {
     "delete_cmd_postfix": "",
     "delete_cmd_prefix": "del ",
     "library": "var_list.py",
     "varRefreshCmd": "print(var_dic_list())"
    },
    "r": {
     "delete_cmd_postfix": ") ",
     "delete_cmd_prefix": "rm(",
     "library": "var_list.r",
     "varRefreshCmd": "cat(var_dic_list()) "
    }
   },
   "types_to_exclude": [
    "module",
    "function",
    "builtin_function_or_method",
    "instance",
    "_Feature"
   ],
   "window_display": false
  }
 },
 "nbformat": 4,
 "nbformat_minor": 4
}

{
 "cells": [
  {
   "cell_type": "markdown",
   "metadata": {},
   "source": [
    "<div class=\"guide-section-description\">\n",
    "      <h6 class=\"guide-section-title\">문제 설명</h6>\n",
    "      <div class=\"markdown solarized-dark\"><p>주어진 숫자 중 3개의 수를 더했을 때 소수가 되는 경우의 개수를 구하려고 합니다. 숫자들이 들어있는 배열 nums가 매개변수로 주어질 때, nums에 있는 숫자들 중 서로 다른 3개를 골라 더했을 때 소수가 되는 경우의 개수를 return 하도록 solution 함수를 완성해주세요.</p>\n",
    "\n",
    "<h5>제한사항</h5>\n",
    "\n",
    "<ul>\n",
    "<li>nums에 들어있는 숫자의 개수는 3개 이상 50개 이하입니다.</li>\n",
    "<li>nums의 각 원소는 1 이상 1,000 이하의 자연수이며, 중복된 숫자가 들어있지 않습니다.</li>\n",
    "</ul>\n",
    "\n",
    "<hr>\n",
    "\n",
    "<h5>입출력 예</h5>\n",
    "<table>\n",
    "        <thead><tr>\n",
    "<th>nums</th>\n",
    "<th>result</th>\n",
    "</tr>\n",
    "</thead>\n",
    "        <tbody><tr>\n",
    "<td>[1,2,3,4]</td>\n",
    "<td>1</td>\n",
    "</tr>\n",
    "<tr>\n",
    "<td>[1,2,7,6,4]</td>\n",
    "<td>4</td>\n",
    "</tr>\n",
    "</tbody>\n",
    "      </table>\n",
    "<h5>입출력 예 설명</h5>\n",
    "\n",
    "<p>입출력 예 #1<br>\n",
    "[1,2,4]를 이용해서 7을 만들 수 있습니다.</p>\n",
    "\n",
    "<p>입출력 예 #2<br>\n",
    "[1,2,4]를 이용해서 7을 만들 수 있습니다.<br>\n",
    "[1,4,6]을 이용해서 11을 만들 수 있습니다.<br>\n",
    "[2,4,7]을 이용해서 13을 만들 수 있습니다.<br>\n",
    "[4,6,7]을 이용해서 17을 만들 수 있습니다.</p>\n",
    "</div>\n",
    "    </div>"
   ]
  },
  {
   "cell_type": "markdown",
   "metadata": {},
   "source": [
    "# 은선"
   ]
  },
  {
   "cell_type": "code",
   "execution_count": null,
   "metadata": {},
   "outputs": [],
   "source": [
    "# https://programmers.co.kr/learn/courses/30/lessons/12977\n",
    "import math\n",
    "\n",
    "def solution(nums):\n",
    "\n",
    "    def is_prime(number):\n",
    "        if number < 2:\n",
    "            return False\n",
    "        elif number == 2:\n",
    "            return True\n",
    "        else:\n",
    "            for i in range(2, int(math.sqrt(number)) + 1):\n",
    "                if number % i == 0:\n",
    "                    return False\n",
    "        return True\n",
    "\n",
    "    # 방법1) 단순 반복문\n",
    "    # answer = 0\n",
    "    # prime = [None] * 3000\n",
    "    # for i in range(len(nums)):\n",
    "    #     for j in range(i + 1, len(nums)):\n",
    "    #         for k in range(j + 1, len(nums)):\n",
    "    #             tmp = nums[i] + nums[j] + nums[k]\n",
    "    #             if prime[tmp] == None:\n",
    "    #                 prime[tmp] = is_prime(tmp)\n",
    "    #             answer += prime[tmp]\n",
    "    # return answer\n",
    "\n",
    "\n",
    "    # 방법2) case 분류\n",
    "    odd, even = [], []\n",
    "    for i in nums:\n",
    "        if i % 2 == 0:\n",
    "            even.append(i)\n",
    "        else:\n",
    "            odd.append(i)\n",
    "\n",
    "    answer = 0\n",
    "    if len(odd) == 0:\n",
    "        return answer\n",
    "\n",
    "    even_sum = []\n",
    "    for i in range(len(even)):\n",
    "        for j in range(i + 1, len(even)):\n",
    "            even_sum.append(even[i] + even[j])\n",
    "    \n",
    "    prime = [None] * 3000\n",
    "    # 경우1: 짝 + 짝 + 홀\n",
    "    for i in even_sum:\n",
    "        for j in odd:\n",
    "            tmp = i + j\n",
    "            if prime[tmp] == None:\n",
    "                prime[tmp] = is_prime(tmp)\n",
    "            answer += prime[tmp]\n",
    "    # 경우2: 홀 + 홀 + 홀\n",
    "    for i in range(len(odd)):\n",
    "        for j in range(i + 1, len(odd)):\n",
    "            for k in range(j + 1, len(odd)):\n",
    "                tmp = odd[i] + odd[j] + odd[k]\n",
    "                if prime[tmp] == None:\n",
    "                    prime[tmp] = is_prime(tmp)\n",
    "                answer += prime[tmp]\n",
    "    return answer\n",
    "\n",
    "\n",
    "\n",
    "if __name__ == \"__main__\":\n",
    "    # nums = [1,2,3,4]\n",
    "    nums = [1,2,7,6,4]\n",
    "    print(solution(nums))"
   ]
  }
 ],
 "metadata": {
  "kernelspec": {
   "display_name": "Python 3",
   "language": "python",
   "name": "python3"
  },
  "language_info": {
   "codemirror_mode": {
    "name": "ipython",
    "version": 3
   },
   "file_extension": ".py",
   "mimetype": "text/x-python",
   "name": "python",
   "nbconvert_exporter": "python",
   "pygments_lexer": "ipython3",
   "version": "3.7.4"
  },
  "varInspector": {
   "cols": {
    "lenName": 16,
    "lenType": 16,
    "lenVar": 40
   },
   "kernels_config": {
    "python": {
     "delete_cmd_postfix": "",
     "delete_cmd_prefix": "del ",
     "library": "var_list.py",
     "varRefreshCmd": "print(var_dic_list())"
    },
    "r": {
     "delete_cmd_postfix": ") ",
     "delete_cmd_prefix": "rm(",
     "library": "var_list.r",
     "varRefreshCmd": "cat(var_dic_list()) "
    }
   },
   "types_to_exclude": [
    "module",
    "function",
    "builtin_function_or_method",
    "instance",
    "_Feature"
   ],
   "window_display": false
  }
 },
 "nbformat": 4,
 "nbformat_minor": 2
}

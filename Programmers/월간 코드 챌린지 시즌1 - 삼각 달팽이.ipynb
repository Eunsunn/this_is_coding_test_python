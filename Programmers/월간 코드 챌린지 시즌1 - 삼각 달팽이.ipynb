{
 "cells": [
  {
   "cell_type": "markdown",
   "metadata": {},
   "source": [
    "<h6 class=\"guide-section-title\">문제 설명</h6>\n",
    "<div class=\"markdown solarized-dark\"><p>정수 n이 매개변수로 주어집니다. 다음 그림과 같이 밑변의 길이와 높이가 n인 삼각형에서 맨 위 꼭짓점부터 반시계 방향으로 달팽이 채우기를 진행한 후, 첫 행부터 마지막 행까지 모두 순서대로 합친 새로운 배열을 return 하도록 solution 함수를 완성해주세요.</p>\n",
    "\n",
    "<p><img src=\"https://grepp-programmers.s3.ap-northeast-2.amazonaws.com/files/production/e1e53b93-dcdf-446f-b47f-e8ec1292a5e0/examples.png\" title=\"\" alt=\"examples.png\"></p>\n",
    "\n",
    "<hr>\n",
    "\n",
    "<h5>제한사항</h5>\n",
    "\n",
    "<ul>\n",
    "<li>n은 1 이상 1,000 이하입니다.</li>\n",
    "</ul>\n",
    "\n",
    "<hr>\n",
    "\n",
    "<h5>입출력 예</h5>\n",
    "<table class=\"table\">\n",
    "        <thead><tr>\n",
    "<th>n</th>\n",
    "<th>result</th>\n",
    "</tr>\n",
    "</thead>\n",
    "        <tbody><tr>\n",
    "<td>4</td>\n",
    "<td><code>[1,2,9,3,10,8,4,5,6,7]</code></td>\n",
    "</tr>\n",
    "<tr>\n",
    "<td>5</td>\n",
    "<td><code>[1,2,12,3,13,11,4,14,15,10,5,6,7,8,9]</code></td>\n",
    "</tr>\n",
    "<tr>\n",
    "<td>6</td>\n",
    "<td><code>[1,2,15,3,16,14,4,17,21,13,5,18,19,20,12,6,7,8,9,10,11]</code></td>\n",
    "</tr>\n",
    "</tbody>\n",
    "      </table>\n",
    "<hr>\n",
    "\n",
    "<h5>입출력 예 설명</h5>\n",
    "\n",
    "<p>입출력 예 #1</p>\n",
    "\n",
    "<ul>\n",
    "<li>문제 예시와 같습니다.</li>\n",
    "</ul>\n",
    "\n",
    "<p>입출력 예 #2</p>\n",
    "\n",
    "<ul>\n",
    "<li>문제 예시와 같습니다.</li>\n",
    "</ul>\n",
    "\n",
    "<p>입출력 예 #3</p>\n",
    "\n",
    "<ul>\n",
    "<li>문제 예시와 같습니다.</li>\n",
    "</ul>\n",
    "</div>\n",
    "    </div>\n",
    "\n",
    "  </div>"
   ]
  },
  {
   "cell_type": "markdown",
   "metadata": {},
   "source": [
    "# 은선\n",
    "- 문제: https://programmers.co.kr/learn/courses/30/lessons/68645"
   ]
  },
  {
   "cell_type": "code",
   "execution_count": null,
   "metadata": {},
   "outputs": [],
   "source": [
    "def solution(n):\n",
    "    arr_len = n*(n+1) / 2\n",
    "    answer = [-1 for _ in range(int(arr_len))]\n",
    "    cur_idx = 0\n",
    "    cur_depth = 1\n",
    "    min_depth, max_depth = 1, n\n",
    "    number = 1\n",
    "    \n",
    "    while min_depth <= max_depth:\n",
    "        # 아래로 내려가기\n",
    "        while cur_depth < max_depth:\n",
    "            answer[cur_idx] = number\n",
    "            cur_idx = cur_idx + cur_depth\n",
    "            number += 1\n",
    "            cur_depth += 1\n",
    "        min_depth += 1\n",
    "\n",
    "        # 맨 아래단에서 옆으로 가기\n",
    "        while cur_idx < cur_depth*(cur_depth+1)/2-1 and answer[cur_idx+1] < 0:\n",
    "            answer[cur_idx] = number\n",
    "            cur_idx += 1\n",
    "            number += 1\n",
    "        max_depth -= 1\n",
    "\n",
    "        # 위로 올라가기\n",
    "        while cur_depth > min_depth and answer[cur_idx-cur_depth] < 0:\n",
    "            answer[cur_idx] = number\n",
    "            cur_idx = cur_idx - cur_depth\n",
    "            cur_depth -= 1\n",
    "            number += 1\n",
    "        min_depth += 1\n",
    "\n",
    "    if answer[cur_idx] < 0:\n",
    "        answer[cur_idx] = number\n",
    "    return answer"
   ]
  }
 ],
 "metadata": {
  "kernelspec": {
   "display_name": "Python 3",
   "language": "python",
   "name": "python3"
  },
  "language_info": {
   "codemirror_mode": {
    "name": "ipython",
    "version": 3
   },
   "file_extension": ".py",
   "mimetype": "text/x-python",
   "name": "python",
   "nbconvert_exporter": "python",
   "pygments_lexer": "ipython3",
   "version": "3.6.10"
  },
  "varInspector": {
   "cols": {
    "lenName": 16,
    "lenType": 16,
    "lenVar": 40
   },
   "kernels_config": {
    "python": {
     "delete_cmd_postfix": "",
     "delete_cmd_prefix": "del ",
     "library": "var_list.py",
     "varRefreshCmd": "print(var_dic_list())"
    },
    "r": {
     "delete_cmd_postfix": ") ",
     "delete_cmd_prefix": "rm(",
     "library": "var_list.r",
     "varRefreshCmd": "cat(var_dic_list()) "
    }
   },
   "types_to_exclude": [
    "module",
    "function",
    "builtin_function_or_method",
    "instance",
    "_Feature"
   ],
   "window_display": false
  }
 },
 "nbformat": 4,
 "nbformat_minor": 4
}

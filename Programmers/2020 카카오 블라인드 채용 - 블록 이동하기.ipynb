{
 "cells": [
  {
   "cell_type": "markdown",
   "metadata": {},
   "source": [
    "## 프로그래머스 DFS/BFS - 블록 이동하기\n",
    "> 2020 KAKAO BLIND RECRUITMENT\n"
   ]
  },
  {
   "cell_type": "markdown",
   "metadata": {},
   "source": [
    "**문제 설명**<br>\n",
    "로봇개발자 \"무지\"는 한 달 앞으로 다가온 \"카카오배 로봇경진대회\"에 출품할 로봇을 준비하고 있습니다. 준비 중인 로봇은 2 x 1 크기의 로봇으로 \"무지\"는 \"0\"과 \"1\"로 이루어진 N x N 크기의 지도에서 2 x 1 크기인 로봇을 움직여 (N, N) 위치까지 이동 할 수 있도록 프로그래밍을 하려고 합니다. 로봇이 이동하는 지도는 가장 왼쪽, 상단의 좌표를 (1, 1)로 하며 지도 내에 표시된 숫자 \"0\"은 빈칸을 \"1\"은 벽을 나타냅니다. 로봇은 벽이 있는 칸 또는 지도 밖으로는 이동할 수 없습니다. 로봇은 처음에 아래 그림과 같이 좌표 (1, 1) 위치에서 가로방향으로 놓여있는 상태로 시작하며, 앞뒤 구분없이 움직일 수 있습니다.\n",
    "\n"
   ]
  },
  {
   "cell_type": "code",
   "execution_count": 4,
   "metadata": {
    "ExecuteTime": {
     "end_time": "2021-03-07T02:15:22.257439Z",
     "start_time": "2021-03-07T02:15:22.240096Z"
    }
   },
   "outputs": [
    {
     "data": {
      "text/html": [
       "<img src=\"https://grepp-programmers.s3.amazonaws.com/files/production/33f5c19ba6/052d3514-5fca-4b85-82aa-0f9eaefae0a3.jpg\" width=\"600\"/>"
      ],
      "text/plain": [
       "<IPython.core.display.Image object>"
      ]
     },
     "execution_count": 4,
     "metadata": {},
     "output_type": "execute_result"
    }
   ],
   "source": [
    "from IPython.display import Image\n",
    "from IPython.core.display import HTML \n",
    "Image(url= \"https://grepp-programmers.s3.amazonaws.com/files/production/33f5c19ba6/052d3514-5fca-4b85-82aa-0f9eaefae0a3.jpg\", width=600)"
   ]
  },
  {
   "cell_type": "markdown",
   "metadata": {},
   "source": [
    "로봇이 움직일 때는 현재 놓여있는 상태를 유지하면서 이동합니다. 예를 들어, 위 그림에서 오른쪽으로 한 칸 이동한다면 (1, 2), (1, 3) 두 칸을 차지하게 되며, 아래로 이동한다면 (2, 1), (2, 2) 두 칸을 차지하게 됩니다. 로봇이 차지하는 두 칸 중 어느 한 칸이라도 (N, N) 위치에 도착하면 됩니다."
   ]
  },
  {
   "cell_type": "code",
   "execution_count": 3,
   "metadata": {
    "ExecuteTime": {
     "end_time": "2021-03-07T02:13:31.783482Z",
     "start_time": "2021-03-07T02:13:31.770620Z"
    }
   },
   "outputs": [
    {
     "data": {
      "text/html": [
       "<img src=\"https://grepp-programmers.s3.amazonaws.com/files/production/edfcdf57d3/f87055df-91e5-4f47-b99a-400c54bfdf3a.jpg\" width=\"400\"/>"
      ],
      "text/plain": [
       "<IPython.core.display.Image object>"
      ]
     },
     "execution_count": 3,
     "metadata": {},
     "output_type": "execute_result"
    }
   ],
   "source": [
    "Image(url=\"https://grepp-programmers.s3.amazonaws.com/files/production/edfcdf57d3/f87055df-91e5-4f47-b99a-400c54bfdf3a.jpg\", width=400)"
   ]
  },
  {
   "cell_type": "markdown",
   "metadata": {},
   "source": [
    "위 그림과 같이 로봇은 90도씩 회전할 수 있습니다. 단, 로봇이 차지하는 두 칸 중, 어느 칸이든 축이 될 수 있지만, 회전하는 방향(축이 되는 칸으로부터 대각선 방향에 있는 칸)에는 벽이 없어야 합니다. 로봇이 한 칸 이동하거나 90도 회전하는 데는 걸리는 시간은 정확히 1초 입니다.\n",
    "\n",
    "\"0\"과 \"1\"로 이루어진 지도인 board가 주어질 때, 로봇이 (N, N) 위치까지 이동하는데 필요한 최소 시간을 return 하도록 solution 함수를 완성해주세요."
   ]
  },
  {
   "cell_type": "markdown",
   "metadata": {},
   "source": [
    "**제한사항**<br>\n",
    "board의 한 변의 길이는 5 이상 100 이하입니다.\n",
    "board의 원소는 0 또는 1입니다.\n",
    "로봇이 처음에 놓여 있는 칸 (1, 1), (1, 2)는 항상 0으로 주어집니다.\n",
    "로봇이 항상 목적지에 도착할 수 있는 경우만 입력으로 주어집니다.\n"
   ]
  },
  {
   "cell_type": "markdown",
   "metadata": {},
   "source": [
    "# 은선"
   ]
  },
  {
   "cell_type": "code",
   "execution_count": null,
   "metadata": {},
   "outputs": [],
   "source": [
    "# https://programmers.co.kr/learn/courses/30/lessons/60063\n",
    "\n",
    "from collections import deque\n",
    "\n",
    "def solution(board):\n",
    "    dx = [1, -1, 0, 0] # 동, 서, 남, 북\n",
    "    dy = [0, 0, 1, -1]\n",
    "    n = len(board)\n",
    "\n",
    "    horizon = 2\n",
    "    vertical = 3\n",
    "    visit_horizon = set()\n",
    "    visit_vertical = set()\n",
    "    q = deque()\n",
    "\n",
    "    def rotate(r, c, t, val):\n",
    "        # 가로 -> 세로로 회전\n",
    "        if val == horizon:\n",
    "            if r > 0 and board[r-1][c] == 0 and board[r-1][c+1] == 0: \n",
    "                # 왼쪽 중심 위로 회전\n",
    "                if (r-1, c) not in visit_vertical:\n",
    "                    q.append((r-1, c, t+1, vertical))\n",
    "                    visit_vertical.add((r-1, c))\n",
    "                # 오른쪽 중심 위로 회전\n",
    "                if (r-1, c+1) not in visit_vertical:\n",
    "                    q.append((r-1, c+1, t+1, vertical))\n",
    "                    visit_vertical.add((r-1, c+1))\n",
    "            if r+1 < n and board[r+1][c] == 0 and board[r+1][c+1] == 0:\n",
    "                # 왼쪽 중심 아래로 회전\n",
    "                if (r, c) not in visit_vertical:\n",
    "                    q.append((r, c, t+1, vertical))\n",
    "                    visit_vertical.add((r, c))\n",
    "                # 오른쪽 중심 아래로 회전\n",
    "                if (r, c+1) not in visit_vertical:\n",
    "                    q.append((r, c+1, t+1, vertical))\n",
    "                    visit_vertical.add((r, c+1))\n",
    "        # 세로 -> 가로로 회전\n",
    "        elif val == vertical:\n",
    "            if c > 0 and board[r][c-1] == 0 and board[r+1][c-1] == 0:\n",
    "                # 위 중심 왼쪽 회전\n",
    "                if (r, c-1) not in visit_horizon:\n",
    "                    q.append((r, c-1, t+1, horizon))\n",
    "                    visit_horizon.add((r, c-1))\n",
    "                # 아래 중심 왼쪽 회전\n",
    "                if (r+1, c-1) not in visit_horizon:\n",
    "                    q.append((r+1, c-1, t+1, horizon))\n",
    "                    visit_horizon.add((r+1, c-1))\n",
    "            if c+1 < n and board[r][c+1] == 0 and board[r+1][c+1] == 0:\n",
    "                # 위 중심 오른쪽 회전\n",
    "                if (r, c) not in visit_horizon:\n",
    "                    q.append((r, c, t+1, horizon))\n",
    "                    visit_horizon.add((r, c))\n",
    "                # 아래 중심 오른쪽 회전\n",
    "                if (r+1, c) not in visit_horizon:\n",
    "                    q.append((r+1, c, t+1, horizon))\n",
    "                    visit_horizon.add((r+1, c))\n",
    "        return\n",
    "\n",
    "    def move(r, c, t, val):\n",
    "        for i in range(len(dy)):\n",
    "            tmp_r, tmp_c = r + dy[i], c + dx[i]\n",
    "            if 0 <= tmp_r < n and 0 <= tmp_c < n:\n",
    "                # 가로 이동\n",
    "                if val == horizon:\n",
    "                    if tmp_c + 1 < n and board[tmp_r][tmp_c] == 0 and board[tmp_r][tmp_c + 1] == 0 and (tmp_r, tmp_c) not in visit_horizon:\n",
    "                        visit_horizon.add((tmp_r, tmp_c))                \n",
    "                        q.append((tmp_r, tmp_c, t+1, val))\n",
    "\n",
    "                # 세로 이동\n",
    "                if val == vertical:\n",
    "                    if tmp_r + 1 < n and board[tmp_r][tmp_c] == 0 and board[tmp_r + 1][tmp_c] == 0 and (tmp_r, tmp_c) not in visit_vertical:\n",
    "                        visit_vertical.add((tmp_r, tmp_c))                \n",
    "                        q.append((tmp_r, tmp_c, t+1, val))\n",
    "\n",
    "    q.append([0, 0, 0, horizon]) # y좌표, x좌표, 시간, 가로 or 세로\n",
    "    visit_horizon.add((0, 0))\n",
    "\n",
    "    while q:\n",
    "        r, c, t, val = q.popleft()\n",
    "        if (val == 2 and r == n-1 and c == n-2) or (val == 3 and r == n-2 and c == n-1):\n",
    "            return t\n",
    "\n",
    "        # 회전시켜 큐에 추가하기\n",
    "        rotate(r, c, t, val)\n",
    "\n",
    "        # 이동시켜 큐에 추가하기\n",
    "        move(r, c, t, val)\n",
    "\n",
    "    return 0\n",
    "\n",
    "\n",
    "if __name__ == \"__main__\":\n",
    "    board = [[0, 0, 0, 1, 1],[0, 0, 0, 1, 0],[0, 1, 0, 1, 1],[1, 1, 0, 0, 1],[0, 0, 0, 0, 0]]\n",
    "    print(solution(board))"
   ]
  }
 ],
 "metadata": {
  "kernelspec": {
   "display_name": "Python 3",
   "language": "python",
   "name": "python3"
  },
  "language_info": {
   "codemirror_mode": {
    "name": "ipython",
    "version": 3
   },
   "file_extension": ".py",
   "mimetype": "text/x-python",
   "name": "python",
   "nbconvert_exporter": "python",
   "pygments_lexer": "ipython3",
   "version": "3.7.4"
  },
  "varInspector": {
   "cols": {
    "lenName": 16,
    "lenType": 16,
    "lenVar": 40
   },
   "kernels_config": {
    "python": {
     "delete_cmd_postfix": "",
     "delete_cmd_prefix": "del ",
     "library": "var_list.py",
     "varRefreshCmd": "print(var_dic_list())"
    },
    "r": {
     "delete_cmd_postfix": ") ",
     "delete_cmd_prefix": "rm(",
     "library": "var_list.r",
     "varRefreshCmd": "cat(var_dic_list()) "
    }
   },
   "types_to_exclude": [
    "module",
    "function",
    "builtin_function_or_method",
    "instance",
    "_Feature"
   ],
   "window_display": false
  }
 },
 "nbformat": 4,
 "nbformat_minor": 4
}

{
 "cells": [
  {
   "cell_type": "markdown",
   "metadata": {},
   "source": [
    "<div class=\"guide-section-description\">\n",
    "      <h6 class=\"guide-section-title\">문제 설명</h6>\n",
    "      <div class=\"markdown solarized-dark\"><p>0과 1로 이루어진 2<sup>n</sup> x 2<sup>n</sup> 크기의 2차원 정수 배열 arr이 있습니다. 당신은 이 arr을 <a href=\"https://en.wikipedia.org/wiki/Quadtree\" target=\"_blank\" rel=\"noopener\">쿼드 트리</a>와 같은 방식으로 압축하고자 합니다. 구체적인 방식은 다음과 같습니다.</p>\n",
    "\n",
    "<ol>\n",
    "<li>당신이 압축하고자 하는 특정 영역을 S라고 정의합니다.</li>\n",
    "<li>만약 S 내부에 있는 모든 수가 같은 값이라면, S를 해당 수 하나로 압축시킵니다.</li>\n",
    "<li>그렇지 않다면, S를 정확히 4개의 균일한 정사각형 영역(입출력 예를 참고해주시기 바랍니다.)으로 쪼갠 뒤, 각 정사각형 영역에 대해 같은 방식의 압축을 시도합니다.</li>\n",
    "</ol>\n",
    "\n",
    "<p>arr이 매개변수로 주어집니다. 위와 같은 방식으로 arr을 압축했을 때, 배열에 최종적으로 남는 0의 개수와 1의 개수를 배열에 담아서 return 하도록 solution 함수를 완성해주세요.</p>\n",
    "\n",
    "<hr>\n",
    "\n",
    "<h5>제한사항</h5>\n",
    "\n",
    "<ul>\n",
    "<li>arr의 행의 개수는 1 이상 1024 이하이며, 2의 거듭 제곱수 형태를 하고 있습니다. 즉, arr의 행의 개수는 1, 2, 4, 8, ..., 1024 중 하나입니다.\n",
    "\n",
    "<ul>\n",
    "<li>arr의 각 행의 길이는 arr의 행의 개수와 같습니다. 즉, arr은 정사각형 배열입니다.</li>\n",
    "<li>arr의 각 행에 있는 모든 값은 0 또는 1 입니다.</li>\n",
    "</ul></li>\n",
    "</ul>\n",
    "\n",
    "<hr>\n",
    "\n",
    "<h5>입출력 예</h5>\n",
    "<table class=\"table\">\n",
    "        <thead><tr>\n",
    "<th>arr</th>\n",
    "<th>result</th>\n",
    "</tr>\n",
    "</thead>\n",
    "        <tbody><tr>\n",
    "<td><code>[[1,1,0,0],[1,0,0,0],[1,0,0,1],[1,1,1,1]]</code></td>\n",
    "<td><code>[4,9]</code></td>\n",
    "</tr>\n",
    "<tr>\n",
    "<td><code>[[1,1,1,1,1,1,1,1],[0,1,1,1,1,1,1,1],[0,0,0,0,1,1,1,1],[0,1,0,0,1,1,1,1],[0,0,0,0,0,0,1,1],[0,0,0,0,0,0,0,1],[0,0,0,0,1,0,0,1],[0,0,0,0,1,1,1,1]]</code></td>\n",
    "<td><code>[10,15]</code></td>\n",
    "</tr>\n",
    "</tbody>\n",
    "      </table>\n",
    "<hr>\n",
    "\n",
    "<h5>입출력 예 설명</h5>\n",
    "\n",
    "<p>입출력 예 #1</p>\n",
    "\n",
    "<ul>\n",
    "<li>다음 그림은 주어진 arr을 압축하는 과정을 나타낸 것입니다.</li>\n",
    "<li><img src=\"https://grepp-programmers.s3.ap-northeast-2.amazonaws.com/files/production/d6900862-8be4-4610-aaef-bc8efd5650cf/ex1.png\" title=\"\" alt=\"ex1.png\"></li>\n",
    "<li>최종 압축 결과에 0이 4개, 1이 9개 있으므로, <code>[4,9]</code>를 return 해야 합니다.</li>\n",
    "</ul>\n",
    "\n",
    "<p>입출력 예 #2</p>\n",
    "\n",
    "<ul>\n",
    "<li>다음 그림은 주어진 arr을 압축하는 과정을 나타낸 것입니다.</li>\n",
    "<li><img src=\"https://grepp-programmers.s3.ap-northeast-2.amazonaws.com/files/production/952a05b7-5157-4211-82d9-02845c187e13/ex2.png\" title=\"\" alt=\"ex2.png\"></li>\n",
    "<li>최종 압축 결과에 0이 10개, 1이 15개 있으므로, <code>[10,15]</code>를 return 해야 합니다.</li>\n",
    "</ul>\n",
    "</div>\n",
    "    </div>"
   ]
  },
  {
   "cell_type": "markdown",
   "metadata": {},
   "source": [
    "# 은선\n",
    "- 문제: https://programmers.co.kr/learn/courses/30/lessons/68936"
   ]
  },
  {
   "cell_type": "code",
   "execution_count": null,
   "metadata": {},
   "outputs": [],
   "source": [
    "def solution(arr):\n",
    "    def compress(row, col, size):\n",
    "        # 모두 같은지 확인\n",
    "        ret = [0, 0]\n",
    "        same = True\n",
    "        for r in range(row, row+size):\n",
    "            for c in range(col, col+size):\n",
    "                if arr[row][col] != arr[r][c]:\n",
    "                    same = False\n",
    "                    break\n",
    "                    \n",
    "        # 같으면 바로 return\n",
    "        if same:\n",
    "            ret[arr[row][col]] += 1\n",
    "            return ret\n",
    "        \n",
    "        # 다르면 재귀호출\n",
    "        half = int(size/2)\n",
    "        for i in range(2):\n",
    "            for j in range(2):\n",
    "                tmp = compress(row+half*i, col+half*j, half)\n",
    "                ret[0] += tmp[0]\n",
    "                ret[1] += tmp[1]\n",
    "        return ret\n",
    "    \n",
    "    return compress(0, 0, len(arr))"
   ]
  }
 ],
 "metadata": {
  "kernelspec": {
   "display_name": "Python 3",
   "language": "python",
   "name": "python3"
  },
  "language_info": {
   "codemirror_mode": {
    "name": "ipython",
    "version": 3
   },
   "file_extension": ".py",
   "mimetype": "text/x-python",
   "name": "python",
   "nbconvert_exporter": "python",
   "pygments_lexer": "ipython3",
   "version": "3.6.10"
  },
  "varInspector": {
   "cols": {
    "lenName": 16,
    "lenType": 16,
    "lenVar": 40
   },
   "kernels_config": {
    "python": {
     "delete_cmd_postfix": "",
     "delete_cmd_prefix": "del ",
     "library": "var_list.py",
     "varRefreshCmd": "print(var_dic_list())"
    },
    "r": {
     "delete_cmd_postfix": ") ",
     "delete_cmd_prefix": "rm(",
     "library": "var_list.r",
     "varRefreshCmd": "cat(var_dic_list()) "
    }
   },
   "types_to_exclude": [
    "module",
    "function",
    "builtin_function_or_method",
    "instance",
    "_Feature"
   ],
   "window_display": false
  }
 },
 "nbformat": 4,
 "nbformat_minor": 4
}

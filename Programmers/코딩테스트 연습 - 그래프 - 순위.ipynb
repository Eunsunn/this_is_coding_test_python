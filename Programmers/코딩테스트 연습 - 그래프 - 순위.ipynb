{
 "cells": [
  {
   "cell_type": "markdown",
   "metadata": {},
   "source": [
    "<div class=\"guide-section\" id=\"tour2\" style=\"width: calc(40% - 12px);\">\n",
    "\n",
    "<div class=\"guide-section-description\">\n",
    "  <h6 class=\"guide-section-title\">문제 설명</h6>\n",
    "  <div class=\"markdown solarized-dark\"><p>n명의 권투선수가 권투 대회에 참여했고 각각 1번부터 n번까지 번호를 받았습니다. 권투 경기는 1대1 방식으로 진행이 되고, 만약 A 선수가 B 선수보다 실력이 좋다면 A 선수는 B 선수를 항상 이깁니다. 심판은 주어진 경기 결과를 가지고 선수들의 순위를 매기려 합니다. 하지만 몇몇 경기 결과를 분실하여 정확하게 순위를 매길 수 없습니다.</p>\n",
    "\n",
    "<p>선수의 수 n, 경기 결과를 담은 2차원 배열 results가 매개변수로 주어질 때 정확하게 순위를 매길 수 있는 선수의 수를 return 하도록 solution 함수를 작성해주세요.</p>\n",
    "\n",
    "<h5>제한사항</h5>\n",
    "\n",
    "<ul>\n",
    "<li>선수의 수는 1명 이상 100명 이하입니다.</li>\n",
    "<li>경기 결과는 1개 이상 4,500개 이하입니다.</li>\n",
    "<li>results 배열 각 행 [A, B]는 A 선수가 B 선수를 이겼다는 의미입니다.</li>\n",
    "<li>모든 경기 결과에는 모순이 없습니다.</li>\n",
    "</ul>\n",
    "\n",
    "<h5>입출력 예</h5>\n",
    "<table class=\"table\">\n",
    "        <thead><tr>\n",
    "<th>n</th>\n",
    "<th>results</th>\n",
    "<th>return</th>\n",
    "</tr>\n",
    "</thead>\n",
    "        <tbody><tr>\n",
    "<td>5</td>\n",
    "<td>[[4, 3], [4, 2], [3, 2], [1, 2], [2, 5]]</td>\n",
    "<td>2</td>\n",
    "</tr>\n",
    "</tbody>\n",
    "      </table>\n",
    "<h5>입출력 예 설명</h5>\n",
    "\n",
    "<p>2번 선수는 [1, 3, 4] 선수에게 패배했고 5번 선수에게 승리했기 때문에 4위입니다.<br>\n",
    "5번 선수는 4위인 2번 선수에게 패배했기 때문에 5위입니다.</p>\n",
    "\n",
    "<p><a href=\"http://contest.usaco.org/JAN08.htm\" target=\"_blank\" rel=\"noopener\">출처</a></p>\n",
    "</div>\n",
    "    </div>\n",
    "\n",
    "  </div>"
   ]
  },
  {
   "cell_type": "markdown",
   "metadata": {},
   "source": [
    "# 은선"
   ]
  },
  {
   "cell_type": "code",
   "execution_count": null,
   "metadata": {},
   "outputs": [],
   "source": [
    "# https://programmers.co.kr/learn/courses/30/lessons/49191?language=python3\n",
    "\n",
    "def solution(n, results):\n",
    "    connect = [[False] * (n + 1) for _ in range(n + 1)]\n",
    "    for (win, lose) in results:\n",
    "        connect[win][lose] = True\n",
    "\n",
    "    # 플로이드 워셜 수행\n",
    "    # a -> k -> b 이면 a -> b 를 추가해준다.\n",
    "    for k in range(1, n + 1): # 거쳐갈 노드\n",
    "        for i in range(1, n + 1): # 시작 노드\n",
    "            if i == k: continue\n",
    "            for j in range(1, n + 1): # 끝 노드\n",
    "                if j == k or j == i: continue\n",
    "                if connect[i][k] and connect[k][j]:\n",
    "                    connect[i][j] = True\n",
    "\n",
    "    # 순서가 정확한 학생 count\n",
    "    count = 0\n",
    "    for i in range(1, n + 1):\n",
    "        num = sum(connect[i]) # i -> j\n",
    "        num += sum([connect[j][i] for j in range(1, n + 1)]) # j -> i\n",
    "        if num == n - 1:\n",
    "            count += 1\n",
    "    \n",
    "    return count"
   ]
  }
 ],
 "metadata": {
  "kernelspec": {
   "display_name": "Python 3",
   "language": "python",
   "name": "python3"
  },
  "language_info": {
   "codemirror_mode": {
    "name": "ipython",
    "version": 3
   },
   "file_extension": ".py",
   "mimetype": "text/x-python",
   "name": "python",
   "nbconvert_exporter": "python",
   "pygments_lexer": "ipython3",
   "version": "3.7.4"
  },
  "varInspector": {
   "cols": {
    "lenName": 16,
    "lenType": 16,
    "lenVar": 40
   },
   "kernels_config": {
    "python": {
     "delete_cmd_postfix": "",
     "delete_cmd_prefix": "del ",
     "library": "var_list.py",
     "varRefreshCmd": "print(var_dic_list())"
    },
    "r": {
     "delete_cmd_postfix": ") ",
     "delete_cmd_prefix": "rm(",
     "library": "var_list.r",
     "varRefreshCmd": "cat(var_dic_list()) "
    }
   },
   "types_to_exclude": [
    "module",
    "function",
    "builtin_function_or_method",
    "instance",
    "_Feature"
   ],
   "window_display": false
  }
 },
 "nbformat": 4,
 "nbformat_minor": 4
}
